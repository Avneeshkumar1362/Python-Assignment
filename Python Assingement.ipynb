{
 "cells": [
  {
   "cell_type": "markdown",
   "id": "147ee78e-1e24-43ec-aa15-99649015ec3d",
   "metadata": {},
   "source": [
    "# ***FOR LOOP*** :-"
   ]
  },
  {
   "cell_type": "code",
   "execution_count": null,
   "id": "f4598d1b-8b01-4cd3-95bb-4e30534c1acb",
   "metadata": {},
   "outputs": [],
   "source": []
  },
  {
   "cell_type": "markdown",
   "id": "c55f5d2c-b581-4e24-a8ce-c566fe6299e8",
   "metadata": {},
   "source": [
    "-----\n",
    "-----\n"
   ]
  },
  {
   "cell_type": "markdown",
   "id": "3bf9051c-4f45-4b5b-a5a0-31ab64e8e661",
   "metadata": {
    "tags": []
   },
   "source": [
    "### 1-Write a Python program to print numbers from 1 to 10 using a for loop.\n"
   ]
  },
  {
   "cell_type": "code",
   "execution_count": 125,
   "id": "5bfe66b5-2ce4-4626-a60a-781c89bbbea8",
   "metadata": {},
   "outputs": [
    {
     "name": "stdout",
     "output_type": "stream",
     "text": [
      "0\n",
      "1\n",
      "2\n",
      "3\n",
      "4\n",
      "5\n",
      "6\n",
      "7\n",
      "8\n",
      "9\n",
      "10\n"
     ]
    }
   ],
   "source": [
    "for number in range(11):\n",
    "    print(number)"
   ]
  },
  {
   "cell_type": "markdown",
   "id": "1a2b15fc-685e-44ea-8040-f6ba2cf87e93",
   "metadata": {},
   "source": [
    "- we use the for loop to print the numbers from to 10.\n",
    "- we use the print statements to print the numbers ."
   ]
  },
  {
   "cell_type": "markdown",
   "id": "90705b86-d313-4996-a88a-510a54b21c04",
   "metadata": {},
   "source": [
    "### 2-Explain the difference between a for loop and a while loop in Python.\n"
   ]
  },
  {
   "cell_type": "markdown",
   "id": "2b122150-b09e-4d7e-95f4-21e80b23a5db",
   "metadata": {},
   "source": [
    "##`Difference b/w for loop and while loop`:- Looping is nothing but its a concept by which you will be able to iterate data one by one and then own deta set write with own logic. for loop is used to iterate over a sequence of items but while loop is used to repeatedly excutute the block of statements while a condition is true .\n",
    "\n",
    "- if you know how times you will iterate go with for.\n",
    "- if you don't know how times you will iterate go with while loop\n"
   ]
  },
  {
   "cell_type": "code",
   "execution_count": 22,
   "id": "6a33ccf3-cfb6-4cc4-8a2f-93e0701d3e22",
   "metadata": {},
   "outputs": [
    {
     "name": "stdout",
     "output_type": "stream",
     "text": [
      "pen\n",
      "book\n",
      "shose\n",
      "lunch\n"
     ]
    }
   ],
   "source": [
    "## Example of for loop.\n",
    "\n",
    "\n",
    "items=[\"pen\",\"book\",\"shose\",\"lunch\"]\n",
    "\n",
    "for items in items:\n",
    "    print(items)"
   ]
  },
  {
   "cell_type": "code",
   "execution_count": 23,
   "id": "dbe8382f-3c71-4bd2-a406-6ce3d66e25e4",
   "metadata": {},
   "outputs": [
    {
     "name": "stdout",
     "output_type": "stream",
     "text": [
      "pen\n",
      "book\n",
      "shose\n",
      "lunch\n"
     ]
    }
   ],
   "source": [
    "## Example of while loop .\n",
    "\n",
    "items=[\"pen\",\"book\",\"shose\",\"lunch\"]\n",
    "\n",
    "length_items=len(items)\n",
    "index=0\n",
    "\n",
    "while index <length_items:\n",
    "    print(items[index])\n",
    "    index+=1"
   ]
  },
  {
   "cell_type": "markdown",
   "id": "c7834d57-66f4-4f31-8200-8a484bbbfeab",
   "metadata": {},
   "source": [
    "### 3- Write a Python program to calculate the sum of all numbers from 1 to 100 using a for loop.\n"
   ]
  },
  {
   "cell_type": "code",
   "execution_count": 24,
   "id": "a9c14acf-91b6-4be2-8445-18265caf2ac6",
   "metadata": {},
   "outputs": [
    {
     "name": "stdout",
     "output_type": "stream",
     "text": [
      "Sum of numbers is : 5050\n"
     ]
    }
   ],
   "source": [
    "sum=0\n",
    "for i in range(1,101):\n",
    "    sum=sum+i\n",
    "print(\"Sum of numbers is :\",sum)"
   ]
  },
  {
   "cell_type": "markdown",
   "id": "4aeef266-441d-4f77-af10-26a21c095d1f",
   "metadata": {},
   "source": [
    "- we create the variable sum to store the value of sum of numbers from 1 to 100.\n",
    "- we use the for loop to calculate the sum of all numbers from 1 to 100.\n",
    "- we use the print statements to print the sum of numbers ."
   ]
  },
  {
   "cell_type": "markdown",
   "id": "3546a965-f770-4014-8d48-66d013dd103c",
   "metadata": {},
   "source": [
    "### 4-How do you iterate through a list using a for loop in Python?"
   ]
  },
  {
   "cell_type": "code",
   "execution_count": 26,
   "id": "a80f95ed-1a48-4ee0-b94e-a266eb6e54ad",
   "metadata": {},
   "outputs": [
    {
     "name": "stdout",
     "output_type": "stream",
     "text": [
      "avneesh verma\n",
      "aniket verma\n",
      "rahul verma\n",
      "ravi verma\n",
      "rajat verma\n"
     ]
    }
   ],
   "source": [
    "my_list=[\"avneesh verma\",\"aniket verma\",\"rahul verma\",\"ravi verma\",\"rajat verma\"]\n",
    "\n",
    "for i in my_list:\n",
    "    print(i)\n",
    "    "
   ]
  },
  {
   "cell_type": "markdown",
   "id": "9ddf14bf-7eb0-4b13-973c-6a9672a3b375",
   "metadata": {},
   "source": [
    "- in the python with the help of  for loop we iterate the data one by one unless and until complete data is not acess ,we explaine this things using the example of for loop,where in this example i is a varible where store the data one by one ."
   ]
  },
  {
   "cell_type": "markdown",
   "id": "66ec699c-6432-4c5b-9970-b72edd197726",
   "metadata": {},
   "source": [
    "### 5-Write a Python program to find the product of all elements in a list using a for loop."
   ]
  },
  {
   "cell_type": "code",
   "execution_count": 27,
   "id": "769b537c-47b6-46dc-979c-1b944622f5ef",
   "metadata": {},
   "outputs": [
    {
     "name": "stdout",
     "output_type": "stream",
     "text": [
      "product of all elements in a list is : 55\n"
     ]
    }
   ],
   "source": [
    "my_list=[1,2,3,4,5,6,7,8,9,10]\n",
    "sum=0\n",
    "for i in my_list:\n",
    "    sum=sum+i\n",
    "print(\"product of all elements in a list is :\",sum)\n",
    "    "
   ]
  },
  {
   "cell_type": "markdown",
   "id": "1331fd7d-a247-4862-b2e8-0efcdd9eccf1",
   "metadata": {},
   "source": [
    "- first of all we create the list of numbers that we want to product of all elements.\n",
    "- we create the variable variable name sum where i can store the data of product of all elements in a list.\n",
    "- we use the print statements to print the product of all elements in a list."
   ]
  },
  {
   "cell_type": "markdown",
   "id": "4decbfe4-3d51-4efa-bc62-910fa24ec114",
   "metadata": {},
   "source": [
    "### 6-Create a Python program that prints all even numbers from 1 to 20 using a for loop.\n"
   ]
  },
  {
   "cell_type": "code",
   "execution_count": 28,
   "id": "16248736-5cfb-43a7-951d-50e78c8d6e3c",
   "metadata": {},
   "outputs": [
    {
     "name": "stdout",
     "output_type": "stream",
     "text": [
      "Even numbers b/w 1 to 10 is:\n",
      "0\n",
      "2\n",
      "4\n",
      "6\n",
      "8\n",
      "10\n"
     ]
    }
   ],
   "source": [
    "print(\"Even numbers b/w 1 to 10 is:\")\n",
    "for i in range(11):\n",
    "    if i%2==0:\n",
    "        print(i)\n"
   ]
  },
  {
   "cell_type": "markdown",
   "id": "9231ef43-6df1-4d3a-aceb-34f41158d92d",
   "metadata": {},
   "source": [
    "- We use the for loop to iterate a even numbers from 1 to 10.\n",
    "- we use the if statements inside the for loop to iterate the the only even numbers from to the for loop.\n"
   ]
  },
  {
   "cell_type": "markdown",
   "id": "d0a22723-dca3-430f-a33b-97aa2f25a4f7",
   "metadata": {},
   "source": [
    "### 7-Write a Python program that calculates the factorial of a number using a for loop.\n"
   ]
  },
  {
   "cell_type": "code",
   "execution_count": 30,
   "id": "a8559f5f-cbd3-4276-80ac-6f863bf78587",
   "metadata": {},
   "outputs": [
    {
     "name": "stdin",
     "output_type": "stream",
     "text": [
      "enter the number 10\n"
     ]
    },
    {
     "name": "stdout",
     "output_type": "stream",
     "text": [
      "Factorial of number is: 3628800\n"
     ]
    }
   ],
   "source": [
    "n=int(input(\"enter the number\"))\n",
    "sum=1\n",
    "for i in range(1,n+1):\n",
    "    sum=i*sum\n",
    "    \n",
    "print(\"Factorial of number is:\",sum)\n"
   ]
  },
  {
   "cell_type": "markdown",
   "id": "2da4b9c6-1ce8-4c5f-9f27-b63b3778c854",
   "metadata": {},
   "source": [
    "- factorial of a number is calculated by multiplying it with all the numbers below it string from 1.\n",
    "- we we the for loop to iterate a numbers from (1 ,n+1) and inside the for loop ` sum=i*sum`:use this condition to find the factorial of a number .\n",
    "- we use the print statements to print the factporial of the number ."
   ]
  },
  {
   "cell_type": "markdown",
   "id": "38a6ef86-af1a-4da1-a7d9-c10c8b284ace",
   "metadata": {},
   "source": [
    "### 8-How can you iterate through the characters of a string using a for loop in Python? "
   ]
  },
  {
   "cell_type": "code",
   "execution_count": 31,
   "id": "4930ac1a-a9f2-4735-8c70-f80860ba95ad",
   "metadata": {},
   "outputs": [
    {
     "name": "stdout",
     "output_type": "stream",
     "text": [
      "iterate the characters:\n",
      "p\n",
      "w\n",
      "s\n",
      "k\n",
      "i\n",
      "l\n",
      "l\n",
      "s\n"
     ]
    }
   ],
   "source": [
    "characters=\"pwskills\"\n",
    "\n",
    "print(\"iterate the characters:\")\n",
    "for i in characters:\n",
    "    print(i)"
   ]
  },
  {
   "cell_type": "markdown",
   "id": "0b7de789-d30a-4cf2-9f5c-902624d8fd0a",
   "metadata": {},
   "source": [
    "- we create the characters string .\n",
    "- we use the for loop to iterate the characters from the string .\n",
    "- we use the print statements to print the characters."
   ]
  },
  {
   "cell_type": "markdown",
   "id": "fb8bbd92-7dea-4f15-ad1e-1681efd5c9e2",
   "metadata": {},
   "source": [
    "### -9 Write a Python program to find the largest number in a list using a for loop."
   ]
  },
  {
   "cell_type": "code",
   "execution_count": 32,
   "id": "8d71634d-94ec-4b3c-86b6-4aeb20fa9f6e",
   "metadata": {},
   "outputs": [
    {
     "name": "stdout",
     "output_type": "stream",
     "text": [
      "Largest inside my_list is: 85\n"
     ]
    }
   ],
   "source": [
    "## create the list\n",
    "my_list=[1,2,3,4,5,6,4,7,85]\n",
    "\n",
    "## create the variable to store the largest value .\n",
    "largest=my_list[0]\n",
    "\n",
    "## we use the for loop to check the largest one.\n",
    "for i in my_list:\n",
    "    if i>largest:\n",
    "        largest=i\n",
    "print(\"Largest inside my_list is:\",largest)"
   ]
  },
  {
   "cell_type": "markdown",
   "id": "803bc544-b5a4-4fab-aac4-62b47db288f2",
   "metadata": {},
   "source": [
    "- we create the list over here that we want to check largest one inside this.\n",
    "- initilize the largest variable with the first element in the list.\n",
    "- use the for loop to travere every element in the list and check the curent element i is grater than the value presenmt in the largest variable.\n",
    "- If it is, then assign the value in i to the variable largest.\n",
    "- After the loop ends, largest will store the largest element in the list."
   ]
  },
  {
   "cell_type": "markdown",
   "id": "f2338379-5d42-49bc-ba32-57f22345f02d",
   "metadata": {},
   "source": [
    "### 10-Create a Python program that prints the Fibonacci sequence up to a specified limit using a for loop.\n"
   ]
  },
  {
   "cell_type": "code",
   "execution_count": 34,
   "id": "1a42b3b6-05a4-46e2-bfab-c2115ae1d7b6",
   "metadata": {},
   "outputs": [
    {
     "name": "stdin",
     "output_type": "stream",
     "text": [
      "how meny term user is find 10\n"
     ]
    },
    {
     "name": "stdout",
     "output_type": "stream",
     "text": [
      "0 1 1 2 3 5 8 13 21 34 "
     ]
    }
   ],
   "source": [
    "\n",
    "n=int(input(\"how meny term user is find\"))\n",
    "## create a two variable .\n",
    "a=0\n",
    "b=1\n",
    " ##  use the for loop\n",
    "for i in range(0,n):\n",
    "    print(a,end=\" \")\n",
    "    c=a+b\n",
    "    a=b\n",
    "    b=c\n"
   ]
  },
  {
   "cell_type": "markdown",
   "id": "7bc4373f-0468-415e-b8a2-6dd38b3bc55a",
   "metadata": {},
   "source": [
    "### 11-Write a Python program to count the number of vowels in a given string using a for loop.\n"
   ]
  },
  {
   "cell_type": "code",
   "execution_count": 35,
   "id": "14f9d09d-b3d3-48de-998b-1a2722abfc8d",
   "metadata": {},
   "outputs": [
    {
     "name": "stdin",
     "output_type": "stream",
     "text": [
      "enter the string avneesh verma\n"
     ]
    },
    {
     "name": "stdout",
     "output_type": "stream",
     "text": [
      "Number of vowels in this string is : 5\n"
     ]
    }
   ],
   "source": [
    "string = input(\"enter the string\")\n",
    "\n",
    "count =0\n",
    "for i in string:\n",
    "        if (i==\"a\" or i==\"e\" or i==\"i\" or i==\"o\" or i== \"u\" or i==\"A\" or i==\"E\" or i==\"I\" or i==\"O\" or i==\"U\"):\n",
    "            count = count+1\n",
    "print(\"Number of vowels in this string is :\",count)"
   ]
  },
  {
   "cell_type": "markdown",
   "id": "9a231f3a-92df-496d-ad1b-3e2ba6d5d315",
   "metadata": {},
   "source": [
    "- we ask the user input string that user want to check .\n",
    "- we create the count variable to store the how many vowels present inside the string .\n",
    "- we use the for loop to iterate each char through the for loop .\n",
    "- inside the for loop we create the condition .\n",
    "- we use the print statements to print the number of vowels."
   ]
  },
  {
   "cell_type": "markdown",
   "id": "1c9e84e9-8e87-4b53-b137-3bb0eb6a1e2e",
   "metadata": {},
   "source": [
    "### 12-Create a Python program that generates a multiplication table for a given number using a for loop.\n"
   ]
  },
  {
   "cell_type": "code",
   "execution_count": 36,
   "id": "e49a3433-ee4e-4fb4-95cf-1a59abaa55a2",
   "metadata": {},
   "outputs": [
    {
     "name": "stdin",
     "output_type": "stream",
     "text": [
      "enter the nmber that you want to multiplication table 10\n"
     ]
    },
    {
     "name": "stdout",
     "output_type": "stream",
     "text": [
      "Table is :\n",
      "10\n",
      "20\n",
      "30\n",
      "40\n",
      "50\n",
      "60\n",
      "70\n",
      "80\n",
      "90\n",
      "100\n"
     ]
    }
   ],
   "source": [
    "## ask the user input \n",
    "\n",
    "n=int(input(\"enter the nmber that you want to multiplication table\"))\n",
    "print(\"Table is :\")\n",
    "\n",
    "## use the for loop to genrate the table \n",
    "for i in range(1,11):\n",
    "    print(n*i)"
   ]
  },
  {
   "cell_type": "markdown",
   "id": "b9c944c7-ddb7-4872-a1a0-51fcfe4f1662",
   "metadata": {},
   "source": [
    "- we ask the user input that he want to genrate the table .\n",
    "- we use the range(1,11) function to genrate the value of table til 10 numbers .\n",
    "- `print(n*i)`: we use this function to genrate the perticular table that user  want ."
   ]
  },
  {
   "cell_type": "markdown",
   "id": "da920413-ace4-4b79-bebf-7998347a8fbb",
   "metadata": {},
   "source": [
    "### 13-Write a Python program to reverse a list using a for loop.\n"
   ]
  },
  {
   "cell_type": "code",
   "execution_count": 37,
   "id": "2ebe0562-cca6-4434-ab72-b99c8be14b2c",
   "metadata": {},
   "outputs": [
    {
     "name": "stdout",
     "output_type": "stream",
     "text": [
      "['Ravi', 'rahul', 'verma', 'avneesh']\n"
     ]
    }
   ],
   "source": [
    "my_list=[\"avneesh\",\"verma\",\"rahul\",\"Ravi\"]\n",
    "new_list=[]\n",
    "for i in range(len(my_list)):\n",
    "    new_list.insert(i,my_list[-1])\n",
    "    my_list.pop(-1)\n",
    "print(new_list)"
   ]
  },
  {
   "cell_type": "markdown",
   "id": "4f212bcb-83ba-491e-b291-836739129aa9",
   "metadata": {},
   "source": [
    "### 14-Write a Python program to find the common elements between two lists using a for loop.\n"
   ]
  },
  {
   "cell_type": "code",
   "execution_count": 38,
   "id": "4c47d360-5c3e-4a5d-974c-d454ae50797a",
   "metadata": {},
   "outputs": [
    {
     "name": "stdout",
     "output_type": "stream",
     "text": [
      "[1, 2]\n"
     ]
    }
   ],
   "source": [
    "list1=[1,2,3,4,5,6,7,8,9]\n",
    "list2=[1,2,10,11,12,13,14]\n",
    "def common_element(list1,list2):\n",
    "    result=[]\n",
    "    for element in list1:\n",
    "        if element in list2:\n",
    "            result.append(element)\n",
    "\n",
    "    return result\n",
    "print(common_element(list1,list2))"
   ]
  },
  {
   "cell_type": "markdown",
   "id": "c0d8b0dd-84eb-455c-8b27-64b3bb00c958",
   "metadata": {},
   "source": [
    "- first of all we create the two list name list1 and list2 seprately .\n",
    "- we define the function ,function name is common_element.\n",
    "- we create the result variable to store the common element b/w list1 and list2.\n",
    "- we use the for loop to iterate each element to list1.\n",
    "- imside the for loop we use this `if element in list2:`: condition to check the common element b/w them. \n",
    "- we append the value of elements inside the result variable.\n",
    "- we use the print statements to print the common elements ."
   ]
  },
  {
   "cell_type": "markdown",
   "id": "04336097-16bb-4580-9cd8-3981de8d19cd",
   "metadata": {},
   "source": [
    "### 15-Explain how to use a for loop to iterate through the keys and values of a dictionary in Python.\n"
   ]
  },
  {
   "cell_type": "code",
   "execution_count": 39,
   "id": "2b9e76ec-8b4c-4c5a-bcc7-2bf2f9f180df",
   "metadata": {},
   "outputs": [
    {
     "name": "stdout",
     "output_type": "stream",
     "text": [
      "Key: name\n",
      "Key: mobile\n",
      "Value: avneesh\n",
      "Value: 142562\n",
      "key: name \t value: avneesh\n",
      "key: mobile \t value: 142562\n"
     ]
    }
   ],
   "source": [
    "my_dic={\"name\":\"avneesh\",\"mobile\":142562}\n",
    "for key in my_dic.keys():\n",
    "    print(\"Key:\",key)\n",
    "    \n",
    "for value in my_dic.values():\n",
    "    print(\"Value:\",value)\n",
    "for key,values in my_dic.items():\n",
    "    print(\"key:\",key, '\\t', \"value:\",values)"
   ]
  },
  {
   "cell_type": "markdown",
   "id": "f4b345a9-5d72-45b3-8b94-f21cd8382c6b",
   "metadata": {},
   "source": [
    "## ` Explanation` :-\n",
    "- we create the dictionary ,dictionary name my_dict that contains some key and values .\n",
    "- if i want to iterate the key at that point of time inside the for loop i used `my_dic.keys()`: , if i want to iterae value at that point of time i used the my_dic.values(): , and if i want to iterate key and value both at that point i used my_dic.items(): to iterate both key and values.\n"
   ]
  },
  {
   "cell_type": "markdown",
   "id": "9c9bf77a-ac24-436d-b151-b27b6377f939",
   "metadata": {},
   "source": [
    "### 16-Write a Python program to find the GCD (Greatest Common Divisor) of two numbers using a for loop.\n"
   ]
  },
  {
   "cell_type": "code",
   "execution_count": 40,
   "id": "5e5ebfd0-2ea5-4064-b337-3cb8c2dacd02",
   "metadata": {},
   "outputs": [
    {
     "name": "stdout",
     "output_type": "stream",
     "text": [
      "GCD of num1 & num 2 is : 12\n"
     ]
    }
   ],
   "source": [
    "num1=60\n",
    "num2=36\n",
    "gcd=1\n",
    "for i in range(1,max(num1,num2)):\n",
    "    if num1%i==0 and num2%i==0:\n",
    "        gcd = i\n",
    "print(\"GCD of num1 & num 2 is :\",gcd)"
   ]
  },
  {
   "cell_type": "markdown",
   "id": "cf744078-cfeb-4520-8fef-06d60bbc1d07",
   "metadata": {},
   "source": [
    "- we create the two number variable num1 and num2 that store the data that we want to find the GCd of two numbers .\n",
    "- we initilize the value of GCD is 1 .\n",
    "- Run a loop in a iteration of b/w `[(1,max(num1,num2)]`\n",
    "- note down that highest value divides both num1 and num2 .\n",
    "- If i satisfies (num1 % i == 0 and num2 % i == 0) then new value of GCD is i.\n",
    "- print the GCD of two numbers using print statements."
   ]
  },
  {
   "cell_type": "markdown",
   "id": "be3134a5-823b-4e27-b7e7-70b830366ced",
   "metadata": {},
   "source": [
    "### 17-Create a Python program that checks if a string is a palindrome using a for loop.\n"
   ]
  },
  {
   "cell_type": "code",
   "execution_count": 43,
   "id": "68de49eb-14ba-4322-bcb4-51c59848f838",
   "metadata": {},
   "outputs": [
    {
     "name": "stdin",
     "output_type": "stream",
     "text": [
      "enter your string  rar\n"
     ]
    },
    {
     "name": "stdout",
     "output_type": "stream",
     "text": [
      "string is a palindrom\n"
     ]
    }
   ],
   "source": [
    "string =input(\"enter your string \")\n",
    "\n",
    "for i in string:\n",
    "    if string == string[::-1]:\n",
    "        print(\"string is a palindrom\")\n",
    "        \n",
    "        break\n",
    "else:\n",
    "    print(\"string is not a palindrom\")\n",
    "    "
   ]
  },
  {
   "cell_type": "markdown",
   "id": "1c69ac69-504b-4dfe-b3f8-0c44f0c1d728",
   "metadata": {},
   "source": [
    "- we ask the user input that he want to check string is palindrom or not .\n",
    "- According this question i'll use the for loop ,inside this loop create a one condition if input string is equal to the reverse of the same string `if string == string[::-1]:`: then it condition will be true then print string is a palindrom .\n",
    "- if this condition fails then else block comes into a picture then print string is not a palindrom."
   ]
  },
  {
   "cell_type": "markdown",
   "id": "9ae15a1a-e3c4-461d-a477-7f0b7b2f12db",
   "metadata": {},
   "source": [
    "### 18-Write a Python program to remove duplicates from a list using a for loop.\n"
   ]
  },
  {
   "cell_type": "code",
   "execution_count": 44,
   "id": "6263f221-fe5e-436c-b761-c642e6a13df8",
   "metadata": {},
   "outputs": [
    {
     "name": "stdout",
     "output_type": "stream",
     "text": [
      "Before duplicate remove list: [1, 2, 3, 4, 1, 23, 44, 2, 3, 4, 926]\n",
      "After duplicate remove list : [1, 2, 3, 4, 23, 44, 926]\n"
     ]
    }
   ],
   "source": [
    "my_list=[1,2,3,4,1,23,44,2,3,4,926]\n",
    "print(\"Before duplicate remove list:\",my_list)\n",
    "remove_dupl=[]\n",
    "\n",
    "for i in my_list:\n",
    "    if i not in remove_dupl:\n",
    "        remove_dupl.append(i)\n",
    "print(\"After duplicate remove list :\",remove_dupl)"
   ]
  },
  {
   "cell_type": "markdown",
   "id": "4e97e114-ca39-4070-8e69-0336e5f49813",
   "metadata": {},
   "source": [
    "- we create list ,list name is my_list that containse some inteser data.\n",
    "- we print the before removing duplicate list and then print after removing duplicate list.\n",
    "- we create the remove_dupl variable to store the after removing duplicate list .\n",
    "- we use the for loop to remove the duplicate from the list inside the for loop we create the one condition `if i not in remove_dupl`: to check the duplicate inside the list.\n",
    "- `remove_dupl.append(i)`: we use this function to append the data inside the remove_dupl variable.\n"
   ]
  },
  {
   "cell_type": "markdown",
   "id": "cfaef981-9d6e-4652-b056-a0a266971e7f",
   "metadata": {},
   "source": [
    "### 19-Create a Python program that counts the number of words in a sentence using a for loop.\n"
   ]
  },
  {
   "cell_type": "code",
   "execution_count": 45,
   "id": "12c1f59d-dc10-493a-bef4-11c28e51d9b1",
   "metadata": {},
   "outputs": [
    {
     "name": "stdout",
     "output_type": "stream",
     "text": [
      "Number of words: 3\n"
     ]
    }
   ],
   "source": [
    "sentence = \"Pw skils lab\"\n",
    "words = 0\n",
    "for i in sentence:\n",
    "    if i == \" \" :\n",
    "        words += 1\n",
    "if len(sentence) > 0:\n",
    "    print(\"Number of words:\", words + 1)\n",
    "else:\n",
    "    print(\"Number of words: 0\")"
   ]
  },
  {
   "cell_type": "markdown",
   "id": "1ef7d1a1-a170-49c9-8b02-ea85b5e19365",
   "metadata": {},
   "source": [
    "### 20-Write a Python program to find the sum of all odd numbers from 1 to 50 using a for loop.\n"
   ]
  },
  {
   "cell_type": "code",
   "execution_count": 46,
   "id": "46aac3a9-d047-438a-b4d9-610ce36f3679",
   "metadata": {},
   "outputs": [
    {
     "name": "stdout",
     "output_type": "stream",
     "text": [
      "625\n"
     ]
    }
   ],
   "source": [
    "## find the sum odd .\n",
    "sum_odd =0\n",
    "for i in range(1,50):\n",
    "    if i%2 != 0:\n",
    "       \n",
    "        sum_odd= sum_odd+i\n",
    "print(sum_odd)"
   ]
  },
  {
   "cell_type": "markdown",
   "id": "9473de77-3763-4e85-a551-96905c038fe2",
   "metadata": {},
   "source": [
    "- we create the sum_odd variable to store the sum of odd numbers from 1 to 50.\n",
    "- we use the for loop method to find the sum of odd numbers , in this function we use the range function to sum of numbers from 1 to 50 .\n",
    "- inside the for loop we use the if statements ,to find the odd numbers b/w 1 to 50 numbers .\n",
    "- we `sum_odd= sum_odd+i` : use this function to sum of odd numbers .\n",
    "- we use the print statements to print the odd numbers."
   ]
  },
  {
   "cell_type": "markdown",
   "id": "c36544d2-1ace-4ad2-93d9-e09329ac729a",
   "metadata": {},
   "source": [
    "### 21-Write a Python program that checks if a given year is a leap year using a for loop."
   ]
  },
  {
   "cell_type": "code",
   "execution_count": 48,
   "id": "3232370e-947b-4fe9-a6ed-908c91a4f6ec",
   "metadata": {},
   "outputs": [
    {
     "name": "stdin",
     "output_type": "stream",
     "text": [
      "Please select a starting year:  2023\n",
      "Please select how many years you'd like to check:  5\n"
     ]
    },
    {
     "name": "stdout",
     "output_type": "stream",
     "text": [
      "2023\n",
      "2024  Is a leap year\n",
      "2025\n",
      "2026\n",
      "2027\n",
      "2028  Is a leap year\n"
     ]
    }
   ],
   "source": [
    "start_year = int(input(\"Please select a starting year: \"))\n",
    "num_of_years = int(input(\"Please select how many years you'd like to check: \"))\n",
    "\n",
    "end_year =start_year+num_of_years\n",
    "\n",
    "## use the for loop \n",
    "\n",
    "for year in range(start_year-1, end_year):\n",
    "    year += 1    \n",
    "    if year % 4 == 0 and (year % 100 != 0 or year % 400 == 0):\n",
    "        print (year,\" Is a leap year\")\n",
    "    else:\n",
    "        print (year)"
   ]
  },
  {
   "cell_type": "markdown",
   "id": "5be1d620-607f-4054-81a1-ac5dffa6c9bb",
   "metadata": {},
   "source": [
    "- we ask the users enter the starting year & how many year you would like to check.\n",
    "- `end_year =start_year+num_of_years` : we use this statements to count the end_year.\n",
    "- we use the for loop to check the year is leap year or not .\n"
   ]
  },
  {
   "cell_type": "markdown",
   "id": "3de2e146-fb5b-4001-9924-2af250bd1023",
   "metadata": {},
   "source": [
    "### 22-Create a Python program that calculates the square root of a number using a for loop.\n"
   ]
  },
  {
   "cell_type": "code",
   "execution_count": 58,
   "id": "cb5c1ecc-9d8f-4e51-81f5-18cd756e44c2",
   "metadata": {},
   "outputs": [
    {
     "name": "stdin",
     "output_type": "stream",
     "text": [
      "Enter a number to calculate its square root:  50\n"
     ]
    },
    {
     "name": "stdout",
     "output_type": "stream",
     "text": [
      "The square root of 50.0 is approximately 13.500000\n"
     ]
    }
   ],
   "source": [
    "def calculate_square_root(number):\n",
    "    # Check for negative input\n",
    "    if number < 0:\n",
    "        return \"Cannot calculate the square root of a negative number.\"\n",
    "\n",
    "    # Initial guess\n",
    "    guess = number / 2\n",
    "\n",
    "    # Iterate for 10 iterations (adjust as needed)\n",
    "    for _ in range(10):\n",
    "        guess = 0.5 * (guess + number / guess)\n",
    "\n",
    "    return guess\n",
    "\n",
    "# Example usage:\n",
    "if __name__ == \"__main__\":\n",
    "    try:\n",
    "        input_number = float(input(\"Enter a number to calculate its square root: \"))\n",
    "        result = calculate_square_root(input_number)\n",
    "        print(f\"The square root of {input_number} is approximately {result:.6f}\")\n",
    "    except ValueError:\n",
    "        print(\"Invalid input. Please enter a valid number.\")"
   ]
  },
  {
   "cell_type": "markdown",
   "id": "4d6d4e83-2406-4677-ba1f-c79114d83a4b",
   "metadata": {},
   "source": [
    "### 23-Write a Python program to find the LCM (Least Common Multiple) of two numbers using a for loop.\n",
    "\n"
   ]
  },
  {
   "cell_type": "code",
   "execution_count": 53,
   "id": "9d75f52e-eac8-4820-81fa-bebb06e6c943",
   "metadata": {},
   "outputs": [
    {
     "name": "stdout",
     "output_type": "stream",
     "text": [
      "LCM of 12 and 14 is 84\n"
     ]
    }
   ],
   "source": [
    "num1 = 12\n",
    "num2 = 14\n",
    "for i in range(max(num1, num2), 1 + (num1 * num2)):\n",
    "    if i % num1 == i % num2 == 0:\n",
    "        lcm = i\n",
    "        break\n",
    "print(\"LCM of\", num1, \"and\", num2, \"is\", lcm)"
   ]
  },
  {
   "cell_type": "markdown",
   "id": "693e9326-a3aa-4e23-81aa-284bb2d74d55",
   "metadata": {},
   "source": [
    "# ***If else*** :-\n"
   ]
  },
  {
   "cell_type": "markdown",
   "id": "6192ed29-c9ae-4e9b-b686-da57352cca38",
   "metadata": {},
   "source": [
    "### 1-Write a Python program to check if a number is positive, negative, or zero using an if-else statement.\n"
   ]
  },
  {
   "cell_type": "code",
   "execution_count": 56,
   "id": "995cf91a-4365-47e2-a3e6-cf9384d6a0ae",
   "metadata": {},
   "outputs": [
    {
     "name": "stdin",
     "output_type": "stream",
     "text": [
      "enter number 10\n"
     ]
    },
    {
     "name": "stdout",
     "output_type": "stream",
     "text": [
      "given number is positive\n"
     ]
    }
   ],
   "source": [
    "number =int(input(\"enter number\"))\n",
    "\n",
    "if number <0:\n",
    "    print(\"given number is negative\")\n",
    "    \n",
    "elif number>0:\n",
    "    print(\"given number is positive\")\n",
    "else:\n",
    "    print(\"given number is zero\")"
   ]
  },
  {
   "cell_type": "markdown",
   "id": "81ee7b36-0960-4c49-a9fc-b1f06ed1ba0d",
   "metadata": {},
   "source": [
    "- we ask the user input .\n",
    "- we use the multiple if ,elif and else statements to check the number is possitive ,negative or zero."
   ]
  },
  {
   "cell_type": "markdown",
   "id": "63667ec5-2cd7-422c-ad14-59358f52715d",
   "metadata": {},
   "source": [
    "### 2-Create a Python program that checks if a given number is even or odd using an if-else statement.\n"
   ]
  },
  {
   "cell_type": "code",
   "execution_count": 57,
   "id": "832a3fbd-749b-4cc5-a4c7-4ca3e660213c",
   "metadata": {},
   "outputs": [
    {
     "name": "stdin",
     "output_type": "stream",
     "text": [
      "enter number 4\n"
     ]
    },
    {
     "name": "stdout",
     "output_type": "stream",
     "text": [
      "given number is even: 4\n"
     ]
    }
   ],
   "source": [
    "number = int(input(\"enter number\"))\n",
    "\n",
    "if number%2==0:\n",
    "    print(\"given number is even:\",number)\n",
    "else:\n",
    "    print(\"given number is odd:\",number)"
   ]
  },
  {
   "cell_type": "markdown",
   "id": "e0558a0a-8ea3-426c-a474-dd819e3ceff2",
   "metadata": {},
   "source": [
    "- we ask the user input that he want to check number is even or odd2.\n",
    "- we use the if and else statements to check the number is even or odd ."
   ]
  },
  {
   "cell_type": "markdown",
   "id": "c73234e2-6ed8-479f-b1e0-c4060cfa3457",
   "metadata": {},
   "source": [
    "### 3-How can you use nested if-else statements in Python, and provide an example?\n"
   ]
  },
  {
   "cell_type": "markdown",
   "id": "408335b1-1d9e-4984-a1bf-c0aa28e1902d",
   "metadata": {},
   "source": [
    "# `Explanation` :-\n",
    "- if we use the if,else statements inside the if,else statements that is something called the nested if-else statements.\n",
    " \n",
    " \n",
    "# ` EXAMPLE `:-"
   ]
  },
  {
   "cell_type": "code",
   "execution_count": 58,
   "id": "8d248d5c-e43a-4252-96db-9c58a92eaab0",
   "metadata": {},
   "outputs": [
    {
     "name": "stdout",
     "output_type": "stream",
     "text": [
      "The number is positive and even.\n"
     ]
    }
   ],
   "source": [
    "# Simpler example of a nested if-else statement\n",
    "num = 10\n",
    "\n",
    "if num > 0:\n",
    "    if num % 2 == 0:\n",
    "        print(\"The number is positive and even.\")\n",
    "    else:\n",
    "        print(\"The number is positive but odd.\")\n",
    "else:\n",
    "    print(\"The number is not positive.\")"
   ]
  },
  {
   "cell_type": "markdown",
   "id": "f292b7ed-2cad-4890-94ea-6169d1ca4314",
   "metadata": {},
   "source": [
    "### 4-Write a Python program to determine the largest of three numbers using if-else.\n"
   ]
  },
  {
   "cell_type": "code",
   "execution_count": 59,
   "id": "5b2c26c0-3ff2-4b35-aaf2-5921d35200eb",
   "metadata": {},
   "outputs": [
    {
     "name": "stdout",
     "output_type": "stream",
     "text": [
      "The gratest number b/w them is: 54\n"
     ]
    }
   ],
   "source": [
    "num1=52\n",
    "num2=54\n",
    "num3=10\n",
    "\n",
    "if (num1>=num2) and (num1>=num3):\n",
    "    gratest = num1\n",
    "elif (num2>=num3) and (num2>=num1):\n",
    "    gratest = num2\n",
    "    \n",
    "else:\n",
    "    gratest = num3\n",
    "    \n",
    "print(\"The gratest number b/w them is:\",gratest)"
   ]
  },
  {
   "cell_type": "markdown",
   "id": "fc2ece58-a3b5-4bed-a70c-9b093af70bf9",
   "metadata": {},
   "source": [
    "- we store the numbers in variable num1 , num2 and num3 .\n",
    "- if `(num1>=num2) and (num1>=num3):`: this condition will be true then gratest number is num1.\n",
    "- `elif (num2>=num3) and (num2>=num1):`: if this condition will be true then num2 is a gratest numbers. , else num3 is a gratest number.\n",
    "- we use the print statements to print the gratest number ."
   ]
  },
  {
   "cell_type": "markdown",
   "id": "0f7378c1-10fa-42c2-bda8-cea5f85c5798",
   "metadata": {},
   "source": [
    "### 5-Write a Python program that calculates the absolute value of a number using if-else.\n"
   ]
  },
  {
   "cell_type": "code",
   "execution_count": 60,
   "id": "0b624923-d3b3-474a-85f8-b6ac358e3256",
   "metadata": {},
   "outputs": [
    {
     "name": "stdin",
     "output_type": "stream",
     "text": [
      "enter the number 5\n"
     ]
    },
    {
     "name": "stdout",
     "output_type": "stream",
     "text": [
      "Number is absulute: 5\n"
     ]
    }
   ],
   "source": [
    "number = int(input(\"enter the number\"))\n",
    "\n",
    "if number<0:\n",
    "    print(\"Absulute value of a number is:\",-number)\n",
    "    \n",
    "else:\n",
    "    print(\"Number is absulute:\",number)"
   ]
  },
  {
   "cell_type": "markdown",
   "id": "c3d3bf0c-0836-419b-9cc5-4b4b748cbf6a",
   "metadata": {},
   "source": [
    "- we ask the user input that he want to check the absulute value of a number.\n",
    "- we use the if ,else statements to find the absulute value of any number given by the user."
   ]
  },
  {
   "cell_type": "markdown",
   "id": "e47d5109-0a04-4497-864a-198755a3c0ab",
   "metadata": {},
   "source": [
    "### 6-Create a Python program that checks if a given character is a vowel or consonant using if-else.\n"
   ]
  },
  {
   "cell_type": "code",
   "execution_count": 61,
   "id": "01b61229-d885-4c2d-899f-bf9d6d35e597",
   "metadata": {},
   "outputs": [
    {
     "name": "stdin",
     "output_type": "stream",
     "text": [
      "enter the character 10\n"
     ]
    },
    {
     "name": "stdout",
     "output_type": "stream",
     "text": [
      "10 : is a consonant character\n"
     ]
    }
   ],
   "source": [
    "vowels=[\"a\",\"e\",\"i\",\"o\",\"u\",\"A\",\"E\",\"I\",\"O\",\"U\"]\n",
    "\n",
    "cha = input(\"enter the character\")\n",
    "\n",
    "if cha in vowels:\n",
    "    print(cha,\": is a vowels character\")\n",
    "    \n",
    "else:\n",
    "    print(cha,\": is a consonant character\")"
   ]
  },
  {
   "cell_type": "markdown",
   "id": "44639775-7af2-478b-8ed1-2e12dbd68890",
   "metadata": {},
   "source": [
    "- we create the vowels list in tha form of small and capital characters.\n",
    "- we use the if and else statements to check the char is a vowels or consonant."
   ]
  },
  {
   "cell_type": "markdown",
   "id": "9c1cf66d-5b6e-40a6-889c-2b8e9e0e12ea",
   "metadata": {},
   "source": [
    "### 7-Write a Python program to determine if a user is eligible to vote based on their age using if-else.\n"
   ]
  },
  {
   "cell_type": "code",
   "execution_count": 62,
   "id": "11237b71-d53b-4a22-9133-128cc2999478",
   "metadata": {},
   "outputs": [
    {
     "name": "stdin",
     "output_type": "stream",
     "text": [
      "enter your age 10\n"
     ]
    },
    {
     "name": "stdout",
     "output_type": "stream",
     "text": [
      "you are not eligible for vote b/c your age is less than 18 year\n"
     ]
    }
   ],
   "source": [
    "eligible_vote_age=18\n",
    "user_age=int(input(\"enter your age\"))\n",
    "\n",
    "if user_age <eligible_vote_age:\n",
    "    print(\"you are not eligible for vote b/c your age is less than 18 year\")\n",
    "    \n",
    "elif user_age>=18:\n",
    "    print(\"You are eligible for vote \")\n",
    "    \n",
    "else:\n",
    "    print(\"You enter the wrong age please try again\")"
   ]
  },
  {
   "cell_type": "markdown",
   "id": "c2903f60-336b-494d-a026-880c5fb0a7ee",
   "metadata": {},
   "source": [
    "- we ask the user age from the user.\n",
    "- we `if user_age <eligible_vote_age:`: this condition to check the user is less than 18 or not if user is less than 18 then this condition true and then print \"you are not eligible for vote b/c your age is less than 18 year\"\n",
    "- ` elif user_age>=18:`: if this condition is true then print You are eligible for vote\n",
    "- else print You enter the wrong age please try again"
   ]
  },
  {
   "cell_type": "markdown",
   "id": "925185e5-39d8-48db-86bc-ce49f07e4d10",
   "metadata": {},
   "source": [
    "### 8-Create a Python program that calculates the discount amount based on the purchase amount using if-else.\n"
   ]
  },
  {
   "cell_type": "code",
   "execution_count": 63,
   "id": "a608af79-56c1-4ea9-8575-3417605f98be",
   "metadata": {},
   "outputs": [
    {
     "name": "stdin",
     "output_type": "stream",
     "text": [
      "Shopkeaper tell me price of paint and shirt 5000\n"
     ]
    },
    {
     "name": "stdout",
     "output_type": "stream",
     "text": [
      "Discount on this prise is : 1000.0\n",
      "Net pay amount is: 4000.0\n"
     ]
    }
   ],
   "source": [
    "amount=int(input(\"Shopkeaper tell me price of paint and shirt\"))\n",
    "\n",
    "if 5000>=amount>2000:\n",
    "    discount=amount*0.2\n",
    "    \n",
    "elif 7000>=amount>5000:\n",
    "    discount=amount*0.3\n",
    "\n",
    "elif 10000>=amount>7000:\n",
    "    discount=amount*0.4\n",
    "print(\"Discount on this prise is :\",discount)\n",
    "print(\"Net pay amount is:\",amount-discount)"
   ]
  },
  {
   "cell_type": "markdown",
   "id": "558ec070-c5e0-4fc0-92e4-3bf4a4f54e5a",
   "metadata": {},
   "source": [
    "- we ask the shopekeeper price of paint and shirt .\n",
    "- we use the multiple if elif statements to decide the perticular discount on perticular price rate.\n",
    "- we use the print statements to print the discount rate and net pay amount ."
   ]
  },
  {
   "cell_type": "markdown",
   "id": "4b059deb-490d-458e-b325-d74866615fad",
   "metadata": {},
   "source": [
    "### 9-Write a Python program to check if a number is within a specified range using if-else.\n"
   ]
  },
  {
   "cell_type": "code",
   "execution_count": 64,
   "id": "d5a8e0b9-98fd-4d91-b83e-da2f921ad5e0",
   "metadata": {},
   "outputs": [
    {
     "name": "stdin",
     "output_type": "stream",
     "text": [
      "enter the number b/w 1 to 100 10\n"
     ]
    },
    {
     "name": "stdout",
     "output_type": "stream",
     "text": [
      "number is within in a specified range\n"
     ]
    }
   ],
   "source": [
    "uper_bound=100\n",
    "lower_bound=1\n",
    "number=int(input(\"enter the number b/w 1 to 100\"))\n",
    "\n",
    "if lower_bound<=number<=uper_bound:\n",
    "    print(\"number is within in a specified range\")\n",
    "\n",
    "else:\n",
    "    print(\"Number is out of specified range\")"
   ]
  },
  {
   "cell_type": "markdown",
   "id": "ec869258-1807-455a-8bcf-00a9593c83d5",
   "metadata": {},
   "source": [
    "- we decide the upper bound and lower bound .\n",
    "- we ask the user input that he wanr"
   ]
  },
  {
   "cell_type": "markdown",
   "id": "1e1d3a61-7cfc-422d-b9c9-b216cd70c9b8",
   "metadata": {},
   "source": [
    "### 10-Create a Python program that determines the grade of a student based on their score using if-else.\n"
   ]
  },
  {
   "cell_type": "code",
   "execution_count": 65,
   "id": "8a72ce85-055a-4956-b31a-0d4b6ea382c5",
   "metadata": {},
   "outputs": [
    {
     "name": "stdin",
     "output_type": "stream",
     "text": [
      "Enter your score 90\n"
     ]
    },
    {
     "name": "stdout",
     "output_type": "stream",
     "text": [
      "Excelent your grade is A+\n"
     ]
    }
   ],
   "source": [
    "score = int(input(\"Enter your score\"))\n",
    "\n",
    "if score >=90:\n",
    "    print(\"Excelent your grade is A+\")\n",
    "    \n",
    "elif score>=80:\n",
    "    print(\"Excelent your grade is A\")\n",
    "    \n",
    "elif score>=70:\n",
    "    print(\"Excelent your grade is B+\")\n",
    "elif score>=60:\n",
    "    print(\"Excelent your grade is B\")\n",
    "    \n",
    "elif score>=50:\n",
    "    print(\"Excelent your grade is C+\")\n",
    "    \n",
    "else:\n",
    "    print(\"Excelent your grade is C\")"
   ]
  },
  {
   "cell_type": "markdown",
   "id": "6a02d190-e886-434e-a7f9-ed807ce0c191",
   "metadata": {},
   "source": [
    "- we ask the user scoring marks .\n",
    "- we use the multiple if , elif and else statements to decide the student grade .\n",
    "- we use the print statements to print the grades."
   ]
  },
  {
   "cell_type": "markdown",
   "id": "9e6f2bae-d443-48a3-b419-e09612981839",
   "metadata": {},
   "source": [
    "### 11-Write a Python program to check if a string is empty or not using if-else.\n"
   ]
  },
  {
   "cell_type": "code",
   "execution_count": 66,
   "id": "a632d407-e964-48cc-b074-9a2f64752768",
   "metadata": {},
   "outputs": [
    {
     "name": "stdout",
     "output_type": "stream",
     "text": [
      "it's an empty or blank string\n",
      "None\n"
     ]
    }
   ],
   "source": [
    "def String(myString):\n",
    "    if myString.strip():\n",
    "        print(\"it's not an empty or blank string\")\n",
    "    else:\n",
    "        print(\"it's an empty or blank string\")\n",
    "print(String(\"\"))"
   ]
  },
  {
   "cell_type": "code",
   "execution_count": 67,
   "id": "1d85fc76-6746-419a-bede-2442ee8c7f83",
   "metadata": {},
   "outputs": [
    {
     "name": "stdout",
     "output_type": "stream",
     "text": [
      "it's not an empty or blank string\n",
      "None\n"
     ]
    }
   ],
   "source": [
    "def String(myString):\n",
    "    if myString.strip():\n",
    "        print(\"it's not an empty or blank string\")\n",
    "    else:\n",
    "        print(\"it's an empty or blank string\")\n",
    "print(String(\"Pwskills\"))"
   ]
  },
  {
   "cell_type": "markdown",
   "id": "a0f505af-3111-4adc-a2d9-08161d9805ce",
   "metadata": {},
   "source": [
    "### 12-Create a Python program that identifies the type of a triangle (e.g., equilateral, isosceles, or scalene) based on input values using if-else.\n"
   ]
  },
  {
   "cell_type": "code",
   "execution_count": 68,
   "id": "3f955ac6-b3b2-487c-a512-a1f03ab682c4",
   "metadata": {},
   "outputs": [
    {
     "name": "stdin",
     "output_type": "stream",
     "text": [
      "enter the value of side1 1\n",
      "enter the value of side2 5\n",
      "enter the value of side3 6\n"
     ]
    },
    {
     "name": "stdout",
     "output_type": "stream",
     "text": [
      "This is a scalene trangle\n"
     ]
    }
   ],
   "source": [
    "side1=int(input(\"enter the value of side1\"))\n",
    "side2=int(input(\"enter the value of side2\"))\n",
    "side3=int(input(\"enter the value of side3\"))\n",
    "\n",
    "if side1==side2==side3:\n",
    "    print(\"This is a equilateral trangle\")\n",
    "    \n",
    "elif side1==side2 !=side3 or side1==side3 !=side2 or side2==side3!=side1:\n",
    "    print(\"This is a  isosceles trangle\") \n",
    "    \n",
    "else:\n",
    "    print(\"This is a scalene trangle\")"
   ]
  },
  {
   "cell_type": "markdown",
   "id": "ac9951f9-d1a1-48dc-82f9-c00955057720",
   "metadata": {},
   "source": [
    "- we ask the users angle sides ,side1 ,side2 and side3.\n",
    "- if all the sides are equal than it is a equilateral trange.\n",
    "- if any two sides are equal then it is a isosceles .\n",
    "- if any of these sides not equal to then it is a scalene angle."
   ]
  },
  {
   "cell_type": "markdown",
   "id": "a65358ad-bed9-4ab8-ba2c-337bb80fccae",
   "metadata": {},
   "source": [
    "### 13-Write a Python program to determine the day of the week based on a user-provided number using if-else.\n"
   ]
  },
  {
   "cell_type": "code",
   "execution_count": 69,
   "id": "8a8ddcb6-34df-44a0-92fa-0555b390ff8b",
   "metadata": {},
   "outputs": [
    {
     "name": "stdout",
     "output_type": "stream",
     "text": [
      " 1-Sunday 2-Monday 3-tuesday 3-thursday 4-Friday 5-saterday\n"
     ]
    },
    {
     "name": "stdin",
     "output_type": "stream",
     "text": [
      "enter the numbers 1\n"
     ]
    },
    {
     "name": "stdout",
     "output_type": "stream",
     "text": [
      "Sunday\n"
     ]
    }
   ],
   "source": [
    "print(\" 1-Sunday 2-Monday 3-tuesday 3-thursday 4-Friday 5-saterday\")\n",
    "\n",
    "day =int(input(\"enter the numbers\"))\n",
    "\n",
    "if day==1:\n",
    "    print(\"Sunday\")\n",
    "    \n",
    "elif day==2:\n",
    "    print(\"Monday\")\n",
    "    \n",
    "elif day==3:\n",
    "    print(\"tuesday\")\n",
    "    \n",
    "elif day==4:\n",
    "    print(\"thursday\")\n",
    "    \n",
    "elif day==5:\n",
    "    print(\"saterday\")\n",
    "    \n",
    "else:\n",
    "    print(\"You enterd wrong input plese try again\")"
   ]
  },
  {
   "cell_type": "markdown",
   "id": "7e557635-d144-4cd0-9cac-5278395d7f5c",
   "metadata": {},
   "source": [
    "- we use the multiple if elif and else statements to print the day based on a user provide number.\n",
    "- we ask the user number to print print the day."
   ]
  },
  {
   "cell_type": "markdown",
   "id": "d6994caf-02c6-416d-83e9-10ca0f387495",
   "metadata": {},
   "source": [
    "### 14-Create a Python program that checks if a given year is a leap year using both if-else and a function.\n"
   ]
  },
  {
   "cell_type": "code",
   "execution_count": 71,
   "id": "d42d441e-b426-45d8-91d9-46c904ee5130",
   "metadata": {},
   "outputs": [
    {
     "name": "stdin",
     "output_type": "stream",
     "text": [
      "enter the year 2023\n"
     ]
    },
    {
     "name": "stdout",
     "output_type": "stream",
     "text": [
      "year is not a leap year\n",
      "None\n"
     ]
    }
   ],
   "source": [
    "n=int(input(\"enter the year\"))\n",
    "def leap_year(year):\n",
    "    if year % 4 == 0 and (year % 100 != 0 or year % 400 == 0):\n",
    "        print(\"year is a leap year\")\n",
    "        \n",
    "    else:\n",
    "        print(\"year is not a leap year\")\n",
    "    \n",
    "print(leap_year(n))"
   ]
  },
  {
   "cell_type": "markdown",
   "id": "3600f15f-1b62-4ac2-8456-1ebddf70bda4",
   "metadata": {},
   "source": [
    "- we define the function ,function name is leap_year .\n",
    "- inside the function we use the if and else statements to check the given year is a leap year or not."
   ]
  },
  {
   "cell_type": "markdown",
   "id": "6ddc1e8b-49b4-4d08-a370-b45cc3093f12",
   "metadata": {},
   "source": [
    "### 15-How do you use the \"assert\" statement in Python to add debugging checks within if-else blocks?\n"
   ]
  },
  {
   "cell_type": "code",
   "execution_count": 52,
   "id": "1fef76a1-95db-438e-9c62-1fab1a3385c5",
   "metadata": {},
   "outputs": [
    {
     "name": "stdout",
     "output_type": "stream",
     "text": [
      "Denominator must be non-zero.\n"
     ]
    }
   ],
   "source": [
    "def divide_numbers(a, b):\n",
    "    assert b != 0, \"Division by zero is not allowed.\"\n",
    "    \n",
    "    result = a / b\n",
    "    return result\n",
    "\n",
    "numerator = 10\n",
    "denominator = 0\n",
    "\n",
    "if denominator != 0:\n",
    "    result = divide_numbers(numerator, denominator)\n",
    "    print(f\"Result of division: {result}\")\n",
    "else:\n",
    "    print(\"Denominator must be non-zero.\")"
   ]
  },
  {
   "cell_type": "code",
   "execution_count": 53,
   "id": "0f6a7889-1735-4fb5-ac81-f1fbb867e434",
   "metadata": {},
   "outputs": [
    {
     "name": "stdout",
     "output_type": "stream",
     "text": [
      "Denominator must be non-zero.\n"
     ]
    }
   ],
   "source": [
    "def divide_numbers(a, b):\n",
    "    assert b != 0, \"Division by zero is not allowed.\"\n",
    "    \n",
    "    result = a / b\n",
    "    return result\n",
    "\\\n",
    "numerator = 10\n",
    "denominator = 0\n",
    "\n",
    "if denominator != 0:\n",
    "    result = divide_numbers(numerator, denominator)\n",
    "    print(f\"Result of division: {result}\")\n",
    "else:\n",
    "    print(\"Denominator must be non-zero.\")"
   ]
  },
  {
   "cell_type": "markdown",
   "id": "6169e8bc-b5da-4e81-9867-59c93b8cf0cd",
   "metadata": {},
   "source": [
    "\n",
    "#### 16-Create a Python program that determines the eligibility of a person for a senior citizen discount based on age using if-else.\n"
   ]
  },
  {
   "cell_type": "code",
   "execution_count": 72,
   "id": "3168f62d-7084-4bdc-ae4e-ab103b531e0b",
   "metadata": {},
   "outputs": [
    {
     "name": "stdin",
     "output_type": "stream",
     "text": [
      "enter your age 40\n",
      "enter price 5000\n"
     ]
    },
    {
     "name": "stdout",
     "output_type": "stream",
     "text": [
      "Age of senior citizen is : 40\n",
      "Discount of prise based on senior citizon age : 3000.0\n",
      "Net pay  2000.0\n"
     ]
    }
   ],
   "source": [
    "age = int(input (\"enter your age\"))\n",
    "price=int(input(\"enter price\"))\n",
    "if 60>= age >=40:\n",
    "    discount = price*0.6\n",
    "    \n",
    "elif 40>=age >=30:\n",
    "    discount = price*0.4\n",
    "    \n",
    "elif 30>=age>=18:\n",
    "    discount=price*0.2\n",
    "    \n",
    "print(\"Age of senior citizen is :\",age)\n",
    "print(\"Discount of prise based on senior citizon age :\",discount)\n",
    "print(\"Net pay \",price-discount)"
   ]
  },
  {
   "cell_type": "markdown",
   "id": "4ebb049d-6e5d-46e1-8b96-385abd7008f0",
   "metadata": {},
   "source": [
    "- we ask the senior citizon age .\n",
    "- if senior citizon age is grater than or equal to 40 and less than 60 then discount based on his age is 60%.\n",
    "- if senior citizon age is grater than or equal to 30 and less than 40 then discount based on his age is 40%\n",
    "- if senior citizon age is grater than or equal to 18 and less than 30 then discount based on his age is 20%\n",
    "- we use the print statements to print the net pay ,age and discount ."
   ]
  },
  {
   "cell_type": "markdown",
   "id": "24d065f5-c87b-451c-ad84-2490dd040462",
   "metadata": {},
   "source": [
    "### 17-Write a Python program to categorize a given character as uppercase, lowercase, or neither using if-else.\n"
   ]
  },
  {
   "cell_type": "code",
   "execution_count": 73,
   "id": "ccef0f16-d140-48c3-83a9-7a87e24507d7",
   "metadata": {},
   "outputs": [
    {
     "name": "stdin",
     "output_type": "stream",
     "text": [
      "enter the characters avneesh\n"
     ]
    },
    {
     "name": "stdout",
     "output_type": "stream",
     "text": [
      "avneesh : is a lower case characters\n"
     ]
    }
   ],
   "source": [
    "character = input(\"enter the characters\")\n",
    "\n",
    "if character==character.upper():\n",
    "    print(character,\": is a upper case characters\")\n",
    "    \n",
    "elif character==character.lower():\n",
    "    print(character,\": is a lower case characters\")\n",
    "    \n",
    "else:\n",
    "    print(\"character both in a lower case and upper case\")"
   ]
  },
  {
   "cell_type": "markdown",
   "id": "9fd2fbbd-fb5b-4300-ad6b-d49c1fb5e51e",
   "metadata": {},
   "source": [
    "- we ask the user to enter the characters that you want to check characters in a lower case or upper case or in both,\n",
    "- we use `if character==character.upper():`: this statements to check the character in a upper case or not.\n",
    "- we use ` elif character==character.lower():`:this statements to check the character in a lower case or not .\n",
    "- we use the else statements to check the character in both lower case or not .\n"
   ]
  },
  {
   "cell_type": "markdown",
   "id": "24d358fd-a7b5-4909-94e2-d18804d1b071",
   "metadata": {},
   "source": [
    "### 18-Write a Python program to determine the roots of a quadratic equation using if-else.\n"
   ]
  },
  {
   "cell_type": "code",
   "execution_count": 74,
   "id": "d1940de5-a194-4802-a19a-dcb2d2fa14f5",
   "metadata": {},
   "outputs": [
    {
     "name": "stdin",
     "output_type": "stream",
     "text": [
      "enter the numbers 5\n",
      "enter the number of b 4\n",
      "enter the number of c 0\n"
     ]
    },
    {
     "name": "stdout",
     "output_type": "stream",
     "text": [
      "0.0\n",
      "-0.8\n"
     ]
    }
   ],
   "source": [
    "from math import sqrt\n",
    "\n",
    "a=int(input(\"enter the numbers\"))\n",
    "b=int(input(\"enter the number of b\"))\n",
    "c=int(input(\"enter the number of c\"))\n",
    "\n",
    "# discriminant \n",
    "disc=b**2 -4*a*c\n",
    "\n",
    "if disc>0:\n",
    "    x1=(-b+sqrt(disc))/(2*a)\n",
    "    x2=(-b-sqrt(disc))/(2*a)\n",
    "    print(x1)\n",
    "    print(x2)\n",
    "else:\n",
    "    print(\"No solution\")"
   ]
  },
  {
   "cell_type": "markdown",
   "id": "42ea7885-cdd0-4b70-9fe1-f35bd3109f70",
   "metadata": {},
   "source": [
    "- We import the sqrt function from the math function .\n",
    "- we ask the users input value of a,b,and c .\n",
    "- we define the discriminant` (disc=b**2 -4*a*c)`\n",
    "- we use the if statements if value of disc is grater than zero then print the x1 and x2."
   ]
  },
  {
   "cell_type": "markdown",
   "id": "5d495613-aea4-40ff-be15-3b65249880c0",
   "metadata": {},
   "source": [
    "### 19-Create a Python program that checks if a given year is a century year or not using if-else.\n"
   ]
  },
  {
   "cell_type": "code",
   "execution_count": 76,
   "id": "f8b36dfa-fb12-4c09-8b5e-cefde3605b21",
   "metadata": {},
   "outputs": [
    {
     "name": "stdin",
     "output_type": "stream",
     "text": [
      "enter year 2023\n"
     ]
    },
    {
     "name": "stdout",
     "output_type": "stream",
     "text": [
      "21 century\n"
     ]
    }
   ],
   "source": [
    "# Python3 code for find the century  \n",
    "# in a given year \n",
    "  \n",
    "def find_century(year): \n",
    "    \n",
    "    # No negative value is allow for year \n",
    "    if (year <= 0): \n",
    "        print(\"0 and negative is not allow for a year\") \n",
    "          \n",
    "    # If year is between 1 to 100 it \n",
    "    # will come in 1st century \n",
    "    elif (year <= 100): \n",
    "        print(\"1st century\") \n",
    "    elif (year % 100 == 0): \n",
    "        print(year // 100,\"century\") \n",
    "    else: \n",
    "        print(year // 100 + 1,\"century\") \n",
    "year = int(input(\"enter year\"))\n",
    "find_century(year) \n"
   ]
  },
  {
   "cell_type": "markdown",
   "id": "a15e41d7-7b07-499d-8b46-8f532ef861e5",
   "metadata": {},
   "source": [
    "- we define the function ,function name is find_century,that takes one arguments of year.\n",
    "- if 100 year is completed then it is called centuary.\n",
    "- `elif (year <= 100):`: this statements use to check the first century.\n",
    "- `elif (year % 100 == 0): `: this statements to check the ony even years century.\n",
    "- else statements use to check the odd year of centuary."
   ]
  },
  {
   "cell_type": "markdown",
   "id": "e9a22c7b-1fcc-4b00-9cf6-81be746592c3",
   "metadata": {},
   "source": [
    "### 20-Write a Python program to determine if a given number is a perfect square using if-else.\n"
   ]
  },
  {
   "cell_type": "code",
   "execution_count": 111,
   "id": "599492ce-0a47-4aaa-a631-97f4f632bd80",
   "metadata": {},
   "outputs": [
    {
     "name": "stdin",
     "output_type": "stream",
     "text": [
      "enter the number 25\n"
     ]
    },
    {
     "data": {
      "text/plain": [
       "(25, ':is a perfect square')"
      ]
     },
     "execution_count": 111,
     "metadata": {},
     "output_type": "execute_result"
    }
   ],
   "source": [
    "def is_perfect_square(n):  \n",
    "    i = 1  \n",
    "    n=int(input(\"enter the number\"))\n",
    "    while i * i <= n:  \n",
    "        if i * i == n:  \n",
    "            return n,\":is a perfect square\"\n",
    "        i += 1  \n",
    "    return n ,\":is not a perfect square\"\n",
    "is_perfect_square(n)"
   ]
  },
  {
   "cell_type": "markdown",
   "id": "b9a5d308-05fa-4215-bca1-08cd95afe724",
   "metadata": {},
   "source": [
    "### 21-Explain the purpose of the \"continue\" and \"break\" statements within if-else loops.\n"
   ]
  },
  {
   "cell_type": "markdown",
   "id": "8fe3e219-3fbc-4e8b-b497-ad4578a4586d",
   "metadata": {},
   "source": [
    "# \"continue\" and \"break\" :-\n",
    "\n",
    "- we use the continue function to skip the perticular value and after skip that value for loop and ,if elif and else condition work with continue, we use the break function to break the for loop ,while loop and if ,elif statements to perticular number.\n",
    "\n",
    "\n",
    "- i'll explain this thing into the example."
   ]
  },
  {
   "cell_type": "code",
   "execution_count": 78,
   "id": "cf0b385c-0e35-4315-94e9-507438077af3",
   "metadata": {},
   "outputs": [
    {
     "name": "stdout",
     "output_type": "stream",
     "text": [
      "1\n",
      "2\n",
      "4\n"
     ]
    }
   ],
   "source": [
    "for i in range(1,5):\n",
    "    if i == 3:\n",
    "        continue\n",
    "    print(i)"
   ]
  },
  {
   "cell_type": "code",
   "execution_count": 79,
   "id": "e7555378-2813-4a09-a66f-92df4ef5b865",
   "metadata": {},
   "outputs": [
    {
     "name": "stdout",
     "output_type": "stream",
     "text": [
      "1\n",
      "2\n"
     ]
    }
   ],
   "source": [
    "for i in range(1,5):\n",
    "    if i ==3:\n",
    "        break\n",
    "    print(i)"
   ]
  },
  {
   "cell_type": "markdown",
   "id": "9accce49-6c0c-4ee8-89f7-8ded6b595b24",
   "metadata": {},
   "source": [
    "### 22-Create a Python program that calculates the BMI (Body Mass Index) of a person based on their weight and height using if-else."
   ]
  },
  {
   "cell_type": "code",
   "execution_count": 81,
   "id": "23f5fa06-1327-4d66-8278-d95d37ce3ba2",
   "metadata": {},
   "outputs": [
    {
     "name": "stdin",
     "output_type": "stream",
     "text": [
      "enter your weight in kg 50\n",
      "enter your height in meters  1.5\n"
     ]
    },
    {
     "name": "stdout",
     "output_type": "stream",
     "text": [
      "Your BMI is : 22.22222222222222\n"
     ]
    }
   ],
   "source": [
    "weight = float(input(\"enter your weight in kg\"))\n",
    "\n",
    "height = float(input(\"enter your height in meters \"))\n",
    "\n",
    "BMI = weight/height**2\n",
    "\n",
    "print(\"Your BMI is :\",BMI)"
   ]
  },
  {
   "cell_type": "markdown",
   "id": "7f6d30aa-9fd9-4d08-bd44-2fa64b07552e",
   "metadata": {},
   "source": [
    "- we ask the user weight in kg and height in meters.\n",
    "- we use the `BMI = weight/height**2`:BMI formula to calculate the BMI of user .\n",
    "- we use the print statements to print the BMI of user ."
   ]
  },
  {
   "cell_type": "markdown",
   "id": "93415ea6-c5e5-4f8c-89d7-5d3a0d121da4",
   "metadata": {},
   "source": [
    "\n",
    "### 23-How can you use the \"filter()\" function with if-else statements to filter elements from a list?\n"
   ]
  },
  {
   "cell_type": "code",
   "execution_count": 85,
   "id": "94b53c40-5d44-40cd-b367-dde3f5afda74",
   "metadata": {},
   "outputs": [
    {
     "name": "stdout",
     "output_type": "stream",
     "text": [
      "filterd score is: [80, 94, 85]\n"
     ]
    }
   ],
   "source": [
    "score_list =[50,52,75,64,80,94,79,85,6,46]\n",
    "\n",
    "def checkscore(n):\n",
    "    if n>=80:\n",
    "        return True\n",
    "    return False\n",
    "percentage_score=filter(checkscore,score_list)\n",
    "\n",
    "score =list(percentage_score)\n",
    "print(\"filterd score is:\",score)"
   ]
  },
  {
   "cell_type": "markdown",
   "id": "217627c8-6c98-4835-a48f-537a3997051c",
   "metadata": {},
   "source": [
    "- we create the list of scores.\n",
    "- we define the function ,function name is checkscore.\n",
    "- if score is grater than the 80 return True if not grater than tha 80 return false.\n",
    "- we use the filter function to filter the score grater then the 80 `percentage_score=filter(checkscore,score_list)`.\n",
    "- we use the print statement to print the score.\n"
   ]
  },
  {
   "cell_type": "markdown",
   "id": "df6890b8-1f8a-4ab0-9ab1-eff2aa3011b7",
   "metadata": {},
   "source": [
    "### 24-Write a Python program to determine if a given number is prime or not using if-else."
   ]
  },
  {
   "cell_type": "code",
   "execution_count": 118,
   "id": "191f51bf-e555-45b4-b6cc-59a0e078e47b",
   "metadata": {},
   "outputs": [
    {
     "name": "stdin",
     "output_type": "stream",
     "text": [
      "number 1\n"
     ]
    },
    {
     "name": "stdout",
     "output_type": "stream",
     "text": [
      "1 : is not a prime number\n"
     ]
    }
   ],
   "source": [
    "n=int(input(\"number\"))\n",
    "\n",
    "if n>1:\n",
    "    for i in range(2,int(n/2)+1):\n",
    "        if n%i==0:\n",
    "            print(n,\":is not a prime number\")\n",
    "        break\n",
    "    else:\n",
    "        print(n,\": is a prime number\")\n",
    "        \n",
    "else:\n",
    "    print(n,\": is not a prime number\")"
   ]
  },
  {
   "cell_type": "markdown",
   "id": "017bdc6a-3eb6-406e-83a0-f4474fce07bf",
   "metadata": {},
   "source": [
    "- we ask the users enter the numbers that you want to check.\n",
    "- we use the for loop to iterate the numbers from the n.\n",
    "- inside for loop we use the multiple if ,else statements .\n"
   ]
  },
  {
   "cell_type": "markdown",
   "id": "71f420e5-ded7-4431-9424-16ee5c6d3ed6",
   "metadata": {},
   "source": [
    "# ***Map*** :-\n"
   ]
  },
  {
   "cell_type": "markdown",
   "id": "1948d078-3f01-41a8-a8c7-3785da04b3b5",
   "metadata": {},
   "source": [
    "### 1-Explain the purpose of the `map()` function in Python and provide an example of how it can be used to apply a function to each element of an iterable.\n"
   ]
  },
  {
   "cell_type": "markdown",
   "id": "b425ac0c-6690-4247-ac2f-49c384a0377b",
   "metadata": {},
   "source": [
    "- map is trying to do nothing but it is just trying to emplement a function map takes two arguments one is function and one is a data ,map is trying to maping element wise ,when ever i have to similar kind of function on the intire list or intire iterables then i can simply try to call the maper ."
   ]
  },
  {
   "cell_type": "code",
   "execution_count": 5,
   "id": "1edadd00-0fe5-49fe-9d27-341943bc3d7e",
   "metadata": {},
   "outputs": [
    {
     "data": {
      "text/plain": [
       "[3, 4, 5, 6, 7, 8]"
      ]
     },
     "execution_count": 5,
     "metadata": {},
     "output_type": "execute_result"
    }
   ],
   "source": [
    "# example\n",
    "lis=[1,2,3,4,5,6]\n",
    "list(map(lambda a:a+2,lis))\n"
   ]
  },
  {
   "cell_type": "markdown",
   "id": "b9c689d5-ba45-47cc-9d55-26c20c17672c",
   "metadata": {},
   "source": [
    "### 2-Write a Python program that uses the `map()` function to square each element of a list of numbers.\n"
   ]
  },
  {
   "cell_type": "code",
   "execution_count": 54,
   "id": "2289f5cb-e6d7-4f5b-af64-fb992c0ff062",
   "metadata": {},
   "outputs": [
    {
     "data": {
      "text/plain": [
       "[1, 4, 9, 16, 25, 36]"
      ]
     },
     "execution_count": 54,
     "metadata": {},
     "output_type": "execute_result"
    }
   ],
   "source": [
    "lis=[1, 2, 3, 4, 5, 6]\n",
    "list(map(lambda a:a**2,lis))"
   ]
  },
  {
   "cell_type": "markdown",
   "id": "182a3272-7c2c-4796-8635-591f25209b99",
   "metadata": {},
   "source": [
    "- first of all we create the list that takes sum intesers that we want to squere of them .\n",
    "- we use the map function to actualy map function takes two arguments one is function and another is data here we use the lambda as a first arguments and list is a second arguments of map function\n",
    "- `list`:we use this function as type casting of a map function."
   ]
  },
  {
   "cell_type": "markdown",
   "id": "4ed01424-75af-49b6-83c8-4a1798156b96",
   "metadata": {},
   "source": [
    "\n",
    "### 3-How does the `map()` function differ from a list comprehension in Python, and when would you choose one over the other?\n"
   ]
  },
  {
   "cell_type": "markdown",
   "id": "bd77b036-f4df-482a-b01f-2678d1165496",
   "metadata": {},
   "source": [
    "\n",
    "- List comprehension is more concise and easier to read as compared to map.\n",
    "- List comprehension allows filtering. In map, we have no such facility. For example, to print all even numbers in range of 100, we can write [n for n in range(100) if n%2 == 0]. There is no alternate for it in map\n",
    "- List comprehension are used when a list of results is required as map only returns a map object and does not return any list.\n",
    "- List comprehension is faster than map when we need to evaluate expressions that are too long or complicated to express\n",
    "- Map is faster in case of calling an already defined function (as no lambda is required).\n"
   ]
  },
  {
   "cell_type": "markdown",
   "id": "7cdb780f-8258-4f9e-a6ff-7fe837adac36",
   "metadata": {},
   "source": [
    "### 4-Create a Python program that uses the `map()` function to convert a list of names to uppercase.\n"
   ]
  },
  {
   "cell_type": "code",
   "execution_count": 38,
   "id": "3ddcd500-2d20-44bb-90f8-75d002d08058",
   "metadata": {},
   "outputs": [
    {
     "data": {
      "text/plain": [
       "['AVNEESH', 'KUMAR', 'PWSKILLS']"
      ]
     },
     "execution_count": 38,
     "metadata": {},
     "output_type": "execute_result"
    }
   ],
   "source": [
    "l=[\"Avneesh\",\"kumar\",\"pwskills\"]\n",
    "\n",
    "list(map(lambda a:a.upper(),l))"
   ]
  },
  {
   "cell_type": "markdown",
   "id": "8b4d5019-2c3b-4df9-ad0c-0bea660e4dff",
   "metadata": {},
   "source": [
    "- first of all we create the list inside the list present some strings that we want to convert into a upper case characters.\n",
    "- we use the the map function to convert into a upper case ."
   ]
  },
  {
   "cell_type": "markdown",
   "id": "1903bf27-071b-470e-bc56-0146a576b7ab",
   "metadata": {},
   "source": [
    "\n",
    "### 5-Write a Python program that uses the `map()` function to calculate the length of each word in a list of strings.\n"
   ]
  },
  {
   "cell_type": "code",
   "execution_count": 55,
   "id": "5acc04d7-481d-417f-835c-ce4c7e5ffb4f",
   "metadata": {},
   "outputs": [
    {
     "data": {
      "text/plain": [
       "[7, 5, 8]"
      ]
     },
     "execution_count": 55,
     "metadata": {},
     "output_type": "execute_result"
    }
   ],
   "source": [
    "l=[\"Avneesh\",\"Verma\",\"Pwskills\"]\n",
    "list(map(len,l))"
   ]
  },
  {
   "cell_type": "markdown",
   "id": "a9ce1f21-42c5-41d5-a1a7-185bf05a1ee9",
   "metadata": {},
   "source": [
    "- first of all we create a list of string .\n",
    "- we use the map function to find the length of the perticular string.\n"
   ]
  },
  {
   "cell_type": "markdown",
   "id": "b720b89c-446e-42cc-ad4a-33b254092f9f",
   "metadata": {},
   "source": [
    "### 6- How can you use the `map()` function to apply a custom function to elements of multiple lists simultaneously in Python?\n"
   ]
  },
  {
   "cell_type": "code",
   "execution_count": 56,
   "id": "eab5c671-28b1-480d-9579-7c85d7ecefae",
   "metadata": {},
   "outputs": [
    {
     "data": {
      "text/plain": [
       "[1, 4, 9, 64, 9834496, 7776, 117649, 2097152, 43046721, 1953125]"
      ]
     },
     "execution_count": 56,
     "metadata": {},
     "output_type": "execute_result"
    }
   ],
   "source": [
    "numbers=[1,2,3,4,56,6,7,8,9,5]\n",
    "power=[1,2,2,3,4,5,6,7,8,9]\n",
    "list(map(pow,numbers,power))"
   ]
  },
  {
   "cell_type": "markdown",
   "id": "e5c46680-ef69-46cd-97bc-0d91794e315d",
   "metadata": {},
   "source": [
    "- we create the two lst that takes some integer values .\n",
    "- we use the map function to power of numbrs"
   ]
  },
  {
   "cell_type": "markdown",
   "id": "af2bd3a0-33ff-4b0f-aa8d-294f4de3e321",
   "metadata": {},
   "source": [
    "### 7-Create a Python program that uses `map()` to convert a list of temperatures from Celsius to Fahrenheit.\n"
   ]
  },
  {
   "cell_type": "code",
   "execution_count": 18,
   "id": "827a88f2-eae5-4943-acb6-6b8e22283ca9",
   "metadata": {},
   "outputs": [
    {
     "data": {
      "text/plain": [
       "[32.0, 50.0, 68.0, 86.0, 104.0]"
      ]
     },
     "execution_count": 18,
     "metadata": {},
     "output_type": "execute_result"
    }
   ],
   "source": [
    "def celsius_to_fahrenheit(celsius):\n",
    "    return (celsius * 9/5) + 32\n",
    "\n",
    "\n",
    "    # Use map() to apply the conversion function to each temperature\n",
    "    list(map(celsius_to_fahrenheit, celsius_temperatures))\n",
    "\n",
    "    # Display the results\n",
    "    print(\"Celsius Temperatures:\", celsius_temperatures)\n",
    "    print(\"Fahrenheit Temperatures:\", fahrenheit_temperatures)\n"
   ]
  },
  {
   "cell_type": "code",
   "execution_count": 17,
   "id": "a9b25983-b309-491f-b194-249ac7bfda89",
   "metadata": {},
   "outputs": [
    {
     "data": {
      "text/plain": [
       "[32.0, 50.0, 68.0, 86.0, 104.0]"
      ]
     },
     "execution_count": 17,
     "metadata": {},
     "output_type": "execute_result"
    }
   ],
   "source": [
    "list(map(celsius_to_fahrenheit,celsius_temperatures))"
   ]
  },
  {
   "cell_type": "markdown",
   "id": "b667782f-c48e-42e3-935e-54ac99d5fe46",
   "metadata": {},
   "source": [
    "### 8-Write a Python program that uses the `map()` function to round each element of a list of floating-point numbers to the nearest integer.\n"
   ]
  },
  {
   "cell_type": "code",
   "execution_count": 52,
   "id": "66e14f9b-34cf-47f9-b34e-165f023f0832",
   "metadata": {},
   "outputs": [
    {
     "data": {
      "text/plain": [
       "[12, 24, 14, 52, 100]"
      ]
     },
     "execution_count": 52,
     "metadata": {},
     "output_type": "execute_result"
    }
   ],
   "source": [
    "lst=[12.1,24.5,14.02,52.5,100.202]\n",
    "list(map(round ,lst))"
   ]
  },
  {
   "cell_type": "markdown",
   "id": "ae1acb19-4453-41c8-bf03-4337645b721d",
   "metadata": {},
   "source": [
    "- we creat the list that store the some floting number,that we want to round off these numbers.\n",
    "- we use the map function to find the round off of perticular numbers."
   ]
  },
  {
   "cell_type": "markdown",
   "id": "7b4a2adc-4717-44bf-ae67-2775c4db1993",
   "metadata": {},
   "source": [
    "# ***Reduce*** :-\n"
   ]
  },
  {
   "cell_type": "markdown",
   "id": "b951592b-18f5-46db-a8dd-af632e0a1eaf",
   "metadata": {},
   "source": [
    "### 1-What is the `reduce()` function in Python, and what module should you import to use it? Provide an example of its basic usage.\n"
   ]
  },
  {
   "cell_type": "markdown",
   "id": "c3fd40a1-dfaf-4e4c-a555-6f48d3b3ece6",
   "metadata": {},
   "source": [
    "- Reduce is nothing but is a litil bit siilar to the map function like map function takes two arguments one if a function and one is iterable or data it is also take these two arguments but reduce function reducing the elements and collaps in a one result .Reduce function import from a `functools` library `(from functools import reduce )` :Reuce function is keep on reducing the values or number unless and untill task is not completed .Where ever i need to only one result in this situation reduce function is comes into a picture."
   ]
  },
  {
   "cell_type": "code",
   "execution_count": 5,
   "id": "564c0b80-eda9-4bac-a86d-a43216812f1b",
   "metadata": {},
   "outputs": [
    {
     "data": {
      "text/plain": [
       "720"
      ]
     },
     "execution_count": 5,
     "metadata": {},
     "output_type": "execute_result"
    }
   ],
   "source": [
    "## Example :-\n",
    "\n",
    "## import the reduce function \n",
    "from functools import reduce\n",
    "## create the list\n",
    "\n",
    "l=[1,2,3,4,5,6]\n",
    "\n",
    "## Use the reduce function.\n",
    "reduce(lambda a,b: a*b,l)\n",
    "\n"
   ]
  },
  {
   "cell_type": "markdown",
   "id": "dcc7d3b6-4fef-4746-a193-a8394d29edca",
   "metadata": {},
   "source": [
    "- first of all we import the reduce function from the functools library.\n",
    "- we create the list of numbers .\n",
    "- we use the reduce function to find the product of all elements in a list."
   ]
  },
  {
   "cell_type": "markdown",
   "id": "f79cbff6-a76b-4093-9076-5035448e8d72",
   "metadata": {},
   "source": [
    "### 2-Write a Python program that uses the `reduce()` function to find the product of all elements in a list.\n"
   ]
  },
  {
   "cell_type": "code",
   "execution_count": 27,
   "id": "868bfcb2-487b-46a8-b2a4-760c88e46983",
   "metadata": {},
   "outputs": [
    {
     "data": {
      "text/plain": [
       "720"
      ]
     },
     "execution_count": 27,
     "metadata": {},
     "output_type": "execute_result"
    }
   ],
   "source": [
    "## Example :-\n",
    "\n",
    "## import the reduce function \n",
    "from functools import reduce\n",
    "## create the list\n",
    "\n",
    "l=[1,2,3,4,5,6]\n",
    "\n",
    "## Use the reduce function.\n",
    "reduce(lambda a,b: a*b,l)\n",
    "\n"
   ]
  },
  {
   "cell_type": "markdown",
   "id": "627b9397-6a38-4e97-9828-37b4812437a3",
   "metadata": {},
   "source": [
    "- first of all we import the reduce function from the functools library.\n",
    "- we create the list of numbers .\n",
    "- we use the reduce function to find the product of all elements in a list."
   ]
  },
  {
   "cell_type": "markdown",
   "id": "3d2eb5a2-e7d4-40d1-82df-d341af223512",
   "metadata": {},
   "source": [
    "### 3-Create a Python program that uses `reduce()` to find the maximum element in a list of numbers.\n"
   ]
  },
  {
   "cell_type": "code",
   "execution_count": 30,
   "id": "9cfcaa42-e348-426c-a914-703948a9375f",
   "metadata": {},
   "outputs": [
    {
     "data": {
      "text/plain": [
       "85"
      ]
     },
     "execution_count": 30,
     "metadata": {},
     "output_type": "execute_result"
    }
   ],
   "source": [
    "l=[12,3,85,9,0,9,1,5]\n",
    "## import the reduce function\n",
    "from functools import reduce\n",
    "\n",
    "## find the max of number \n",
    "\n",
    "reduce(lambda a,b:max(a,b),l)"
   ]
  },
  {
   "cell_type": "markdown",
   "id": "65dcc74a-da2c-4ed1-9b04-f8333db14123",
   "metadata": {},
   "source": [
    "- first of all we import the reduce function from the functools library.\n",
    "- we create the list of numbers .\n",
    "- we use the reduce function to find the maximum elements in a list of numbers."
   ]
  },
  {
   "cell_type": "markdown",
   "id": "e010b2b9-7f4e-40cc-ba7f-cfeea907d9b4",
   "metadata": {},
   "source": [
    "### 4-How can you use the `reduce()` function to concatenate a list of strings into a single string?\n"
   ]
  },
  {
   "cell_type": "code",
   "execution_count": 31,
   "id": "85e206cc-6afb-44aa-942c-ff48927dcff3",
   "metadata": {},
   "outputs": [
    {
     "data": {
      "text/plain": [
       "'MyNameIsAvneeshVerma'"
      ]
     },
     "execution_count": 31,
     "metadata": {},
     "output_type": "execute_result"
    }
   ],
   "source": [
    "## create the string list\n",
    "\n",
    "l=[\"My\",\"Name\",\"Is\",\"Avneesh\",\"Verma\"]\n",
    "\n",
    "## import the function \n",
    "\n",
    "from functools import reduce\n",
    "\n",
    "reduce(lambda a,b:a+b,l)"
   ]
  },
  {
   "cell_type": "markdown",
   "id": "3fe7f5ac-e64d-4a0a-88ab-14427cc46488",
   "metadata": {},
   "source": [
    "- first of all we import the reduce function from the functools library.\n",
    "- we create the list of strings that we want to concatenate .\n",
    "- we use the reduce function to find the concatination of all strings in a list.\n"
   ]
  },
  {
   "cell_type": "markdown",
   "id": "3fe75457-51e4-4aa6-9fb5-cbf6bfcc0599",
   "metadata": {},
   "source": [
    "### 5-Write a Python program that calculates the factorial of a number using the `reduce()` function.\n"
   ]
  },
  {
   "cell_type": "code",
   "execution_count": 43,
   "id": "2af2dce9-2f73-4bdb-929e-c16eed318cdd",
   "metadata": {},
   "outputs": [
    {
     "data": {
      "text/plain": [
       "24"
      ]
     },
     "execution_count": 43,
     "metadata": {},
     "output_type": "execute_result"
    }
   ],
   "source": [
    "\n",
    "## we want to find the factorial of n\n",
    "n=4\n",
    "## use the reduse function to find the factorial of a number\n",
    "fact=reduce(lambda a,b:a*b,range(1,n+1))\n",
    "\n",
    "## call the fact variable\n",
    "fact"
   ]
  },
  {
   "cell_type": "markdown",
   "id": "ecb0c13b-d289-4b07-bf75-c32d24e7c572",
   "metadata": {},
   "source": [
    "### 6-Create a Python program that uses `reduce()` to find the GCD (Greatest Common Divisor) of a list of numbers.\n"
   ]
  },
  {
   "cell_type": "code",
   "execution_count": 77,
   "id": "2f4cb7ae-dd2e-4aed-9ab2-2444c56284de",
   "metadata": {},
   "outputs": [
    {
     "name": "stdout",
     "output_type": "stream",
     "text": [
      "3\n"
     ]
    }
   ],
   "source": [
    "from functools import reduce\n",
    "l=[12, 24, 27, 30, 36]\n",
    "\n",
    "g=lambda a,b:a if b==0 else g(b,a%b)\n",
    "print(reduce(lambda a,b:g(a,b),l))"
   ]
  },
  {
   "cell_type": "markdown",
   "id": "76e56247-ffc9-4323-b64a-74c35f8eae0e",
   "metadata": {},
   "source": [
    "- we import the reduce function from the functools library .\n",
    "- create the list that contains the some integers.\n",
    "- we use the reduce function to find the GCD of a list of numbers ."
   ]
  },
  {
   "cell_type": "markdown",
   "id": "e1386255-b50b-47c8-9fb0-8a910c1cb29f",
   "metadata": {},
   "source": [
    "### 7-Write a Python program that uses the `reduce()` function to find the sum of the digits of a given number.\n",
    " "
   ]
  },
  {
   "cell_type": "code",
   "execution_count": 75,
   "id": "b14df894-1dbc-4926-a6b3-7cc88007ec96",
   "metadata": {},
   "outputs": [
    {
     "data": {
      "text/plain": [
       "21"
      ]
     },
     "execution_count": 75,
     "metadata": {},
     "output_type": "execute_result"
    }
   ],
   "source": [
    "## create the list of numbers \n",
    "l=[1,2,3,4,5,6]\n",
    "\n",
    "#use the reduce function to find the value sum of numbers\n",
    "reduce(lambda a,b:a+b,l)"
   ]
  },
  {
   "cell_type": "markdown",
   "id": "b1fff7e1-1b7e-4345-8884-01a172c9c727",
   "metadata": {},
   "source": [
    "- first of all we import the reduce function from the functools library.\n",
    "- we create the list of numbers .\n",
    "- we use the reduce function to find the sum of all elements in a list.\n"
   ]
  },
  {
   "cell_type": "markdown",
   "id": "a2b63d67-f8ce-4c07-8e8c-6e7b5dbd7282",
   "metadata": {},
   "source": [
    "# ***Filter*** :-\n"
   ]
  },
  {
   "cell_type": "markdown",
   "id": "b9b08d19-66d0-4d0d-912d-f25966bdc510",
   "metadata": {},
   "source": [
    "### 1-Explain the purpose of the `filter()` function in Python and provide an example of how it can be used to filter elements from an iterable.\n"
   ]
  },
  {
   "cell_type": "markdown",
   "id": "a92dd465-a0f2-41e6-b1c7-6e98b7934bc5",
   "metadata": {},
   "source": [
    "- filter function is nothing but its been used to filter some data,that filter function will do what it will filter out the data ased on some condition that we are going to aply this is where a filter function comes into a picture . filter is almost like a map function ,So filter is always to aply itself on every element of the iterables indivisualy where ever condition is going to be true it will keep only that data ,where ever condition is going to be false it will not keeping that perticular data in my final data.\n"
   ]
  },
  {
   "cell_type": "code",
   "execution_count": 47,
   "id": "140c7517-6354-4dd6-af6e-6233d310bb84",
   "metadata": {},
   "outputs": [
    {
     "data": {
      "text/plain": [
       "['w', 'k', 'i', 'l', 'l', 's']"
      ]
     },
     "execution_count": 47,
     "metadata": {},
     "output_type": "execute_result"
    }
   ],
   "source": [
    "## Example\n",
    "\n",
    "s=\"Pw Skills\"\n",
    "list(filter(lambda a:a.islower(),s))"
   ]
  },
  {
   "cell_type": "markdown",
   "id": "dc99bc49-5f82-4e66-99fe-9c87f33c4dab",
   "metadata": {},
   "source": [
    "### 2-Write a Python program that uses the `filter()` function to select even numbers from a list of integers.\n"
   ]
  },
  {
   "cell_type": "code",
   "execution_count": 51,
   "id": "fd246f7d-ff8c-43e6-9443-5c2be8c5d46a",
   "metadata": {},
   "outputs": [
    {
     "data": {
      "text/plain": [
       "[2, 4, 6, 8, 2]"
      ]
     },
     "execution_count": 51,
     "metadata": {},
     "output_type": "execute_result"
    }
   ],
   "source": [
    "## create the list\n",
    "\n",
    "l=[1,2,3,4,5,6,7,8,9,71,2,5]\n",
    "## use the filter function\n",
    "list(filter(lambda a:a%2==0,l))"
   ]
  },
  {
   "cell_type": "markdown",
   "id": "35b1988f-8882-467e-8f3c-35a70dfa8250",
   "metadata": {},
   "source": [
    "- we create the list that stores some inteser value.\n",
    "- we filter out the even numbers with the help of filter function."
   ]
  },
  {
   "cell_type": "markdown",
   "id": "e75c631b-17e4-4e6f-935d-d1677fe6f66f",
   "metadata": {},
   "source": [
    "### 3-Create a Python program that uses the `filter()` function to select names that start with a specific letter from a list of strings.\n"
   ]
  },
  {
   "cell_type": "code",
   "execution_count": 54,
   "id": "774c7c63-2f75-4f36-84b4-6b337adcb465",
   "metadata": {},
   "outputs": [
    {
     "data": {
      "text/plain": [
       "['Pwskills', 'Priya']"
      ]
     },
     "execution_count": 54,
     "metadata": {},
     "output_type": "execute_result"
    }
   ],
   "source": [
    "## create the list of string\n",
    "l=[\"Pwskills\",\"Sudh\",\"Priya\",\"krish\"]\n",
    "# i filter the string which starts with P\n",
    "\n",
    "list(filter(lambda a:a[0]==\"P\",l))"
   ]
  },
  {
   "cell_type": "markdown",
   "id": "83b98724-7b71-4084-b031-bda0fd33ecb9",
   "metadata": {},
   "source": [
    "- first of aal we create the list of string .\n",
    "- we use the filter function to filter out the data acourding to the specific latter ."
   ]
  },
  {
   "cell_type": "markdown",
   "id": "8d11923d-2383-4cfb-83a4-517888f55584",
   "metadata": {},
   "source": [
    "### 4-Write a Python program that uses the `filter()` function to select prime numbers from a list of integers.\n"
   ]
  },
  {
   "cell_type": "code",
   "execution_count": 9,
   "id": "256b46af-3a74-466d-8269-fba57ce31a0c",
   "metadata": {},
   "outputs": [
    {
     "name": "stdout",
     "output_type": "stream",
     "text": [
      "Original Numbers: [2, 7, 15, 23, 10, 31, 50]\n",
      "Prime Numbers: [2, 7, 23, 31]\n"
     ]
    }
   ],
   "source": [
    "def is_prime(number):\n",
    "    if number < 2:\n",
    "        return False\n",
    "    for i in range(2, int(number**0.5) + 1):\n",
    "        if number % i == 0:\n",
    "            return False\n",
    "    return True\n",
    "\n",
    "\n",
    "if __name__ == \"__main__\":\n",
    "    # List of integers\n",
    "    numbers = [2, 7, 15, 23, 10, 31, 50]\n",
    "\n",
    "    # Use filter() to select prime numbers\n",
    "    prime_numbers = list(filter(is_prime, numbers))\n",
    "\n",
    "    # Display the results\n",
    "    print(\"Original Numbers:\", numbers)\n",
    "    print(\"Prime Numbers:\", prime_numbers)\n",
    "\n"
   ]
  },
  {
   "cell_type": "markdown",
   "id": "4537b11d-bec9-4bc1-ad94-a5b2a2fce61b",
   "metadata": {},
   "source": [
    "- we create the function function function name is is_prime that take a agumenets as a list.\n",
    "- we use the for loop to find the prime numbers.\n",
    "- we use the print statements to print the prime numbers ."
   ]
  },
  {
   "cell_type": "markdown",
   "id": "1f9d3e87-f8b0-4b94-9bc7-1f2ac3403754",
   "metadata": {},
   "source": [
    "### 5-How can you use the `filter()` function to remove None values from a list in Python?"
   ]
  },
  {
   "cell_type": "code",
   "execution_count": 8,
   "id": "97090358-1cdc-4a85-93d8-20e8754708c8",
   "metadata": {},
   "outputs": [
    {
     "data": {
      "text/plain": [
       "[1, 2, 3]"
      ]
     },
     "execution_count": 8,
     "metadata": {},
     "output_type": "execute_result"
    }
   ],
   "source": [
    "## create the list that takes none values\n",
    "\n",
    "l=[1,None,2,None,3,None]\n",
    "\n",
    "## use the filter function to remove the None values\n",
    "list(filter(lambda a:a is not None,l))"
   ]
  },
  {
   "cell_type": "markdown",
   "id": "c075bd26-db7f-4465-bf7e-53df5b7ab9ca",
   "metadata": {},
   "source": [
    "- We create the list of none values and inteser values .\n",
    "- we use the filter function to filter out the inteser value and remove out the None values.\n"
   ]
  },
  {
   "cell_type": "markdown",
   "id": "152d4061-c2d4-4553-9687-6c2ff0b2d299",
   "metadata": {},
   "source": [
    "### 6-Create a Python program that uses `filter()` to select words longer than a certain length from a list of strings.\n"
   ]
  },
  {
   "cell_type": "code",
   "execution_count": 57,
   "id": "470dc17d-8a48-4b65-820c-35b5a0dd0066",
   "metadata": {},
   "outputs": [
    {
     "data": {
      "text/plain": [
       "['Pwskills', 'Priya', 'krish']"
      ]
     },
     "execution_count": 57,
     "metadata": {},
     "output_type": "execute_result"
    }
   ],
   "source": [
    "l=[\"Pwskills\",\"Sudh\",\"Priya\",\"krish\"]\n",
    "list(filter(lambda a:len(a)>4,l))"
   ]
  },
  {
   "cell_type": "markdown",
   "id": "02f7fde0-d7ec-43aa-9b61-5a54dd32d5c4",
   "metadata": {},
   "source": [
    "- we create the list of the string .\n",
    "- we use the filter function to filter the words longer than length 4 ."
   ]
  },
  {
   "cell_type": "markdown",
   "id": "68367046-b03c-4d9d-9c6f-8907f636dc11",
   "metadata": {},
   "source": [
    "### 7-Write a Python program that uses the `filter()` function to select elements greater than a specified threshold from a list of values.\n"
   ]
  },
  {
   "cell_type": "code",
   "execution_count": 59,
   "id": "6d5ca72d-ef41-4659-829f-d411a67759d6",
   "metadata": {},
   "outputs": [
    {
     "data": {
      "text/plain": [
       "[26, 26, 26, 154, 51949, 56]"
      ]
     },
     "execution_count": 59,
     "metadata": {},
     "output_type": "execute_result"
    }
   ],
   "source": [
    "l=[1,2,3,4,5,26,2,6,26,2,6,26,2,5,154,51949,56,9,9]\n",
    "list(filter(lambda a:a>=10,l))"
   ]
  },
  {
   "cell_type": "markdown",
   "id": "225c81fe-70d5-4a64-83c1-3990cc8b8e98",
   "metadata": {},
   "source": [
    "- we create the list that takes some inteser values .\n",
    "- we use the filter function to filter out the data from the specific thresold."
   ]
  },
  {
   "cell_type": "markdown",
   "id": "1e6c133c-9e81-44c4-9722-5f5c91b22d23",
   "metadata": {},
   "source": [
    "# ***Recursion*** :-\n"
   ]
  },
  {
   "cell_type": "markdown",
   "id": "3458d9d0-e794-409b-b690-b673bd1bc360",
   "metadata": {},
   "source": [
    "### 1-Explain the concept of recursion in Python. How does it differ from iteration?\n"
   ]
  },
  {
   "cell_type": "markdown",
   "id": "13a22707-32cd-4eeb-b90d-eb8efdedf895",
   "metadata": {},
   "source": [
    "- the basic meaning of recursion is nothing but calling a same function again and again that is the meaning of the recursion ,function is trying to call itself again and again unless and until task is not done.\n",
    "\n",
    "- for loop iterate the values one by one but in this way function is not calling itself .loop will keep on going through all the elements one by one ,unless and until your task is not done."
   ]
  },
  {
   "cell_type": "code",
   "execution_count": 101,
   "id": "dbddfc62-5686-41b9-91b1-7e5a535386cc",
   "metadata": {},
   "outputs": [
    {
     "data": {
      "text/plain": [
       "24"
      ]
     },
     "execution_count": 101,
     "metadata": {},
     "output_type": "execute_result"
    }
   ],
   "source": [
    "## ## example of recursion \n",
    "def fact(n):\n",
    "    if n==0:\n",
    "        return 1\n",
    "    elif n==1:\n",
    "        return 1\n",
    "    elif n<1:\n",
    "        return \"Factorial of this number is not possible\"\n",
    "    else:\n",
    "        return n*fact(n-1)\n",
    "fact(4)"
   ]
  },
  {
   "cell_type": "markdown",
   "id": "01825525-5e3d-4bac-a490-793df1e2c808",
   "metadata": {},
   "source": [
    "### 2-Write a Python program to calculate the factorial of a number using recursion.\n"
   ]
  },
  {
   "cell_type": "code",
   "execution_count": 96,
   "id": "9b7fe23b-b6af-4ecb-af46-f27916699d23",
   "metadata": {},
   "outputs": [],
   "source": [
    "## create the function\n",
    "def fact(n):\n",
    "    if n==0:\n",
    "        return 1\n",
    "    elif n==1:\n",
    "        return 1\n",
    "    elif n<1:\n",
    "        return \"Factorial of this number is not possible\"\n",
    "    else:\n",
    "        return n*fact(n-1)"
   ]
  },
  {
   "cell_type": "code",
   "execution_count": 97,
   "id": "fe8dfa20-a5b1-4a1f-9d39-66195e3b1d24",
   "metadata": {},
   "outputs": [
    {
     "data": {
      "text/plain": [
       "120"
      ]
     },
     "execution_count": 97,
     "metadata": {},
     "output_type": "execute_result"
    }
   ],
   "source": [
    "fact(5)"
   ]
  },
  {
   "cell_type": "markdown",
   "id": "a11476f3-7b20-4ac7-94a0-fb25600e8277",
   "metadata": {},
   "source": [
    "- first of all we create the function ,function name is fact and it is take one arguments that we wan to check the factorial of a number.\n",
    "- if n is equal to the zero or 1 then return 1 beacuse factorial of zero and one is 1.\n",
    "- we use the recursion to find the factorial of the number ` n*fact(n-1)`:(recursion meanse function inside function).\n",
    "- factorial of negative numbers is not possible.\n",
    "\n"
   ]
  },
  {
   "cell_type": "markdown",
   "id": "f9f3d57f-b8ac-4585-9713-beeff9a49c88",
   "metadata": {},
   "source": [
    "### 3-Create a recursive Python function to find the nth Fibonacci number.\n"
   ]
  },
  {
   "cell_type": "code",
   "execution_count": 134,
   "id": "7cb6c979-5b73-4d53-a6c7-258c190a0987",
   "metadata": {},
   "outputs": [
    {
     "name": "stdin",
     "output_type": "stream",
     "text": [
      "Plese enter the number 4\n"
     ]
    },
    {
     "data": {
      "text/plain": [
       "10"
      ]
     },
     "execution_count": 134,
     "metadata": {},
     "output_type": "execute_result"
    }
   ],
   "source": [
    "def fib(n):\n",
    "    if n==0:\n",
    "        return n\n",
    "    elif n==1:\n",
    "        return 1\n",
    "    elif n<0:\n",
    "        return \"Fibonaci of this number is not possible\"\n",
    "    else:\n",
    "        return n+(n-1)+fib(n-2)\n",
    "n=int(input(\"Plese enter the number\"))\n",
    "fib(n)\n"
   ]
  },
  {
   "cell_type": "markdown",
   "id": "8378a85a-1a2e-4c58-83e6-7eca657d4c2a",
   "metadata": {},
   "source": [
    "### 4-Write a recursive Python function to calculate the sum of all elements in a list."
   ]
  },
  {
   "cell_type": "code",
   "execution_count": 38,
   "id": "35e8f81b-5bd1-4f4c-9617-e00862e11124",
   "metadata": {},
   "outputs": [
    {
     "name": "stdin",
     "output_type": "stream",
     "text": [
      "Enter the number of elements for list: 2\n",
      "Enter element: 1\n",
      "Enter element: 2\n"
     ]
    },
    {
     "name": "stdout",
     "output_type": "stream",
     "text": [
      "The list is:\n",
      "[1, 2]\n",
      "Sum of items in list:\n",
      "3\n"
     ]
    }
   ],
   "source": [
    "def sum_arr(arr,size):\n",
    "    if (size == 0):\n",
    "        return 0\n",
    "    else:\n",
    "        return arr[size-1] + sum_arr(arr,size-1)\n",
    "n=int(input(\"Enter the number of elements for list:\"))\n",
    "a=[]\n",
    "for i in range(0,n):\n",
    "    element=int(input(\"Enter element:\"))\n",
    "    a.append(element)\n",
    "print(\"The list is:\")\n",
    "print(a)\n",
    "print(\"Sum of items in list:\")\n",
    "b=sum_arr(a,n)\n",
    "print(b)"
   ]
  },
  {
   "cell_type": "markdown",
   "id": "b4549571-fadc-4229-a518-40cef55685fb",
   "metadata": {},
   "source": [
    "1. User must enter the number of elements in the list and store it in a variable.\n",
    "2. User must enter the values to the same number of elements into the list.\n",
    "3. The append function obtains each element from the user and adds the same to the end of the list as many times as the number of elements taken.\n",
    "4. The list and the size of the list are passed as arguments to a recursive function.\n",
    "5. If the size of the function reduces to 0, 0 is returned.\n",
    "6. Otherwise the sum of the last element of the list along with the recursive function call (with the size reduced by 1) is returned.\n",
    "7. The returned values are stored in a list and the sum of the elements in the list is printed.\n",
    "\n"
   ]
  },
  {
   "cell_type": "markdown",
   "id": "3d852586-8e62-4eb5-8544-bc2617b3e8c8",
   "metadata": {},
   "source": [
    "### 5-How can you prevent a recursive function from running indefinitely, causing a stack overflow error?\n"
   ]
  },
  {
   "cell_type": "markdown",
   "id": "f86eb63e-c1a8-4220-b203-62adb9c50681",
   "metadata": {},
   "source": [
    "- Ensure that your recursive function has a base case that will eventually be met, leading to the termination of the recursion. The base case defines when the function should stop calling itself. Without a proper base case, the recursion might continue indefinitely."
   ]
  },
  {
   "cell_type": "code",
   "execution_count": 44,
   "id": "319f416d-fa76-4f7b-959a-10fa0e3c947e",
   "metadata": {},
   "outputs": [],
   "source": [
    "## example\n",
    "\n",
    "def recursive_function(n):\n",
    "    # Base case\n",
    "    if n <= 0:\n",
    "        return n\n",
    "    \n",
    "    # Recursive call\n",
    "    recursive_function(n - 1)\n"
   ]
  },
  {
   "cell_type": "markdown",
   "id": "d65a5f14-1dec-4b93-a917-e76bd199a3a5",
   "metadata": {},
   "source": [
    "### 6-Create a recursive Python function to find the greatest common divisor (GCD) of two numbers using the Euclidean algorithm.\n"
   ]
  },
  {
   "cell_type": "code",
   "execution_count": 45,
   "id": "b601a4e7-b42d-43b2-9852-89d162acba02",
   "metadata": {},
   "outputs": [
    {
     "name": "stdout",
     "output_type": "stream",
     "text": [
      "The GCD of 48 and 18 is: 6\n"
     ]
    }
   ],
   "source": [
    "def gcd_recursive(a, b):\n",
    "    # Base case\n",
    "    if b == 0:\n",
    "        return a\n",
    "    else:\n",
    "        # Recursive case\n",
    "        return gcd_recursive(b, a % b)\n",
    "\n",
    "# Example usage:\n",
    "num1 = 48\n",
    "num2 = 18\n",
    "result = gcd_recursive(num1, num2)\n",
    "\n",
    "print(f\"The GCD of {num1} and {num2} is: {result}\")\n"
   ]
  },
  {
   "cell_type": "markdown",
   "id": "a26581e6-f5e3-43bd-a94e-1d77c919d719",
   "metadata": {},
   "source": [
    "### 7-Write a recursive Python function to reverse a string.\n"
   ]
  },
  {
   "cell_type": "code",
   "execution_count": 23,
   "id": "02024df0-5fdc-48d3-95df-d8f3ed69ae76",
   "metadata": {},
   "outputs": [
    {
     "data": {
      "text/plain": [
       "'hseenvA'"
      ]
     },
     "execution_count": 23,
     "metadata": {},
     "output_type": "execute_result"
    }
   ],
   "source": [
    "def rev_str(s):\n",
    "    if s==\"\":\n",
    "        return \"\"\n",
    "    else:\n",
    "        return rev_str(s[1::])+s[0]\n",
    "rev_str(\"Avneesh\")"
   ]
  },
  {
   "cell_type": "markdown",
   "id": "f780d493-e839-4d87-9fb5-2fb1793bf072",
   "metadata": {},
   "source": [
    "- we create the function ,function name is rev_str that take one arguments as astring.\n",
    "- if string is empty then reverse strring is also empty.\n",
    "- we use the recursion to find the reverse of the string."
   ]
  },
  {
   "cell_type": "markdown",
   "id": "a0cbf992-810a-4e71-860f-bb3f89a4c2fb",
   "metadata": {},
   "source": [
    "### 8-Create a recursive Python function to calculate the power of a number (x^n).\n"
   ]
  },
  {
   "cell_type": "code",
   "execution_count": 18,
   "id": "ed5d1c5a-8dd5-4932-8b40-ae3b79c0b7ba",
   "metadata": {},
   "outputs": [
    {
     "name": "stdout",
     "output_type": "stream",
     "text": [
      "2 to the power 3 is 8\n"
     ]
    }
   ],
   "source": [
    "def power(a, b):\n",
    "    if b != 0:\n",
    "        return a * power(a, b - 1)\n",
    "    else:\n",
    "        return 1\n",
    "\n",
    "\n",
    "a = 2\n",
    "b = 3\n",
    "print(a, \"to the power\", b, \"is\", power(a, b))"
   ]
  },
  {
   "cell_type": "markdown",
   "id": "5593f38e-3dde-48b9-b69e-e49647740d45",
   "metadata": {},
   "source": [
    "### 9-Write a recursive Python function to find all permutations of a given string.\n"
   ]
  },
  {
   "cell_type": "code",
   "execution_count": 21,
   "id": "be2c2cbf-6172-4f2b-9fee-34a8571ab8e3",
   "metadata": {},
   "outputs": [
    {
     "data": {
      "text/plain": [
       "['ABC', 'BAC', 'BCA', 'ACB', 'CAB', 'CBA']"
      ]
     },
     "execution_count": 21,
     "metadata": {},
     "output_type": "execute_result"
    }
   ],
   "source": [
    "def Permute(string):\n",
    "    if len(string) == 0:\n",
    "        return ['']\n",
    "    prevList = Permute(string[1:len(string)])\n",
    "    nextList = []\n",
    "    for i in range(0,len(prevList)):\n",
    "        for j in range(0,len(string)):\n",
    "            newString = prevList[i][0:j]+string[0]+prevList[i][j:len(string)-1]\n",
    "            if newString not in nextList:\n",
    "                nextList.append(newString)\n",
    "    return nextList\n",
    "Permute(\"ABC\")"
   ]
  },
  {
   "cell_type": "markdown",
   "id": "3aabe370-a481-4735-b75e-a4d41bec6664",
   "metadata": {},
   "source": [
    "### 10-Write a recursive Python function to check if a string is a palindrome.\n"
   ]
  },
  {
   "cell_type": "code",
   "execution_count": 15,
   "id": "10074d5f-deb9-4bb7-bd4a-f81796180747",
   "metadata": {},
   "outputs": [
    {
     "name": "stdin",
     "output_type": "stream",
     "text": [
      "Enter your string rar\n"
     ]
    },
    {
     "name": "stdout",
     "output_type": "stream",
     "text": [
      "string is palindrom\n"
     ]
    }
   ],
   "source": [
    "def is_palindrom(s):\n",
    "    if len(s)<1:\n",
    "        return True\n",
    "    if s[0]==s[-1]:\n",
    "        return is_palindrom(s[1:-1])\n",
    "    else:\n",
    "        return False\n",
    "    \n",
    "s=str(input(\"Enter your string\"))\n",
    "if (is_palindrom(s)==True):\n",
    "    print(\"string is palindrom\")\n",
    "    \n",
    "else:\n",
    "    print(\"string is not a palindrom\")"
   ]
  },
  {
   "cell_type": "markdown",
   "id": "57aca6df-25c5-43c6-8764-7b01135566d1",
   "metadata": {},
   "source": [
    "- we define the function ,function name is is_palindrom that takes string as asrgument that we have want to check string is a plindrom or not.\n",
    "- we create the base condition is length of string is less than 1 in that situation string is always palidrom ,return True.\n",
    "- if index of string zero is equal to index of -1 then it will be a palindom string , to check the whole string we use the recursive function (function inside the function).\n"
   ]
  },
  {
   "cell_type": "markdown",
   "id": "0e160498-7a7d-4744-b132-837e4feba31c",
   "metadata": {},
   "source": [
    "### 11-Create a recursive Python function to generate all possible combinations of a list of elements.\n"
   ]
  },
  {
   "cell_type": "code",
   "execution_count": 7,
   "id": "52d7da01-af93-4fb8-9fe8-7358363a5e6e",
   "metadata": {},
   "outputs": [
    {
     "name": "stdout",
     "output_type": "stream",
     "text": [
      "[[], [55], [46], [55, 46], [47], [55, 47], [46, 47], [55, 46, 47], [89], [55, 89], [46, 89], [55, 46, 89], [47, 89], [55, 47, 89], [46, 47, 89], [55, 46, 47, 89], [76], [55, 76], [46, 76], [55, 46, 76], [47, 76], [55, 47, 76], [46, 47, 76], [55, 46, 47, 76], [89, 76], [55, 89, 76], [46, 89, 76], [55, 46, 89, 76], [47, 89, 76], [55, 47, 89, 76], [46, 47, 89, 76], [55, 46, 47, 89, 76]]\n"
     ]
    }
   ],
   "source": [
    "\n",
    "def generate_combinations_recursive(nums):\n",
    "    result = []\n",
    "    if not nums:\n",
    "        return [[]]\n",
    "\n",
    "    for i in generate_combinations_recursive(nums[1:]):\n",
    "        result.append(i)\n",
    "        result.append([nums[0]] + i)\n",
    "    return result\n",
    "test_list = [55, 46, 47, 89, 76]\n",
    "print(generate_combinations_recursive(test_list))\n"
   ]
  },
  {
   "cell_type": "markdown",
   "id": "259ab12d-4992-47c5-a0c1-ef283304d76c",
   "metadata": {},
   "source": [
    "# ***Basics of Functions*** :-"
   ]
  },
  {
   "cell_type": "markdown",
   "id": "176df4ae-a821-4e6e-8f37-9bb3d3d7749b",
   "metadata": {},
   "source": [
    "### 1-What is a function in Python, and why is it used?\n"
   ]
  },
  {
   "cell_type": "markdown",
   "id": "8773ad78-3ea6-4272-a7ea-06d0f7f11c5c",
   "metadata": {},
   "source": [
    "- function is noting but it is a inbuilt logic or inbuilt sintexces which we try to use acieve the purpose that we have. we used function at the time of writing code to reusability of code , function is piece of code written to carry out specific task.To carry out that specific task, the function might or might not need multiple inputs. When the task is carried out, the function can or can not return one or more values."
   ]
  },
  {
   "cell_type": "markdown",
   "id": "3eb43e5b-6bf2-4cf0-af68-4572386a9c28",
   "metadata": {},
   "source": [
    "### 2- How do you define a function in Python? Provide an example.\n"
   ]
  },
  {
   "cell_type": "markdown",
   "id": "79dd0f32-91ed-41fe-b29d-eba27611df98",
   "metadata": {},
   "source": [
    "- We define the function with the help of  def key word and provide the arguments if you want to .\n"
   ]
  },
  {
   "cell_type": "code",
   "execution_count": 124,
   "id": "f1a6ab46-25df-40b2-91e3-539ba4564d4b",
   "metadata": {},
   "outputs": [
    {
     "name": "stdout",
     "output_type": "stream",
     "text": [
      "sum of number a and b is : 39\n"
     ]
    }
   ],
   "source": [
    "## example \n",
    " ## define function with the help of def keyword\n",
    "\n",
    "def add_num(a,b):\n",
    "    c=a+b\n",
    "    print(\"sum of number a and b is :\",c)\n",
    "add_num(14,25)"
   ]
  },
  {
   "cell_type": "markdown",
   "id": "730c18bc-f1c0-4a97-8d6b-0fa9aeca0c48",
   "metadata": {},
   "source": [
    "### 3-Explain the difference between a function definition and a function call.\n"
   ]
  },
  {
   "cell_type": "markdown",
   "id": "03d36e1f-9d5e-40e8-b78f-42ff97c1f75d",
   "metadata": {},
   "source": [
    "- functions are noting but it a kind of inbuilt logic or inbuilt sintexses which we can try to use achive a purpuse that we have.\n",
    "- function call is an expresssion that passes controle and arguments (if any ). function call use when execuite any function code ."
   ]
  },
  {
   "cell_type": "markdown",
   "id": "45a2bfd2-94c9-4b8a-a0b8-fdc1d4ffe9f0",
   "metadata": {},
   "source": [
    "### 4-Write a Python program that defines a function to calculate the sum of two numbers and then calls the function.\n"
   ]
  },
  {
   "cell_type": "code",
   "execution_count": 1,
   "id": "6bc1e55f-1a10-4a32-a47b-2492b18bb3da",
   "metadata": {},
   "outputs": [
    {
     "name": "stdout",
     "output_type": "stream",
     "text": [
      "6\n"
     ]
    }
   ],
   "source": [
    "def sum_ofnumber(*n):\n",
    "    result =0\n",
    "    for i in n :\n",
    "        result+=i\n",
    "    print(result)\n",
    "sum_ofnumber(1,2,3)\n",
    "        "
   ]
  },
  {
   "cell_type": "markdown",
   "id": "9c99526f-48b9-45d9-81e3-bd235fde057d",
   "metadata": {},
   "source": [
    "- we define the function ,function name is sum_ofnumbers ,it takes n number of arguments .\n",
    "- we create the result variable ,inside this variable we store the result .\n",
    "- we use the for loop to iterate the numbers through function .\n",
    "- we increase the value of result by ading 1 .\n",
    "- we call the function sum_ofnumber to print the sum of values ."
   ]
  },
  {
   "cell_type": "markdown",
   "id": "1a1c97de-4301-4557-82d1-d733034d497d",
   "metadata": {},
   "source": [
    "### 5-What is a function signature, and what information does it typically include?\n"
   ]
  },
  {
   "cell_type": "markdown",
   "id": "fe3eedd5-73cc-4724-9c2c-4bd450e44d17",
   "metadata": {},
   "source": [
    "- In Python, a function signature provides crucial information about the types of parameters that a function can accept and the type of data it returns. The signature() function from the inspect module is used to determine the function signature, helping developers to ensure they are passing the correct types of arguments to their functions. This function can be particularly useful in large programs where a small mistake can lead to significant issues."
   ]
  },
  {
   "cell_type": "markdown",
   "id": "fa95a713-1ede-4bc2-a4df-2e62e249a8b0",
   "metadata": {},
   "source": [
    "### 6-Create a Python function that takes two arguments and returns their product.\n"
   ]
  },
  {
   "cell_type": "code",
   "execution_count": 3,
   "id": "2dd73b35-4946-4644-b5cf-4d10b320ed09",
   "metadata": {},
   "outputs": [
    {
     "name": "stdout",
     "output_type": "stream",
     "text": [
      "30\n"
     ]
    }
   ],
   "source": [
    "def add(a,b):\n",
    "    c=a+b\n",
    "    print(c)\n",
    "add(10,20)"
   ]
  },
  {
   "cell_type": "markdown",
   "id": "c65572bc-343b-406e-9bce-01ea3dd4c346",
   "metadata": {},
   "source": [
    "- we define the function,function name is add and it takes two arguments a and b that we want to product.\n",
    "- we creat the variable c that hold the product of a and b .\n",
    "- we use the print statements to print the value of c."
   ]
  },
  {
   "cell_type": "markdown",
   "id": "c888d834-86d4-4dff-ac6e-743774761062",
   "metadata": {},
   "source": [
    "------\n",
    "\n",
    "\n",
    "\n",
    "\n",
    "\n",
    "\n",
    "\n",
    "\n",
    "----"
   ]
  },
  {
   "cell_type": "markdown",
   "id": "39e97eaa-cd99-45be-a02d-ba0bf9569609",
   "metadata": {},
   "source": [
    "# ***Function Parameters and Arguments*** :-\n"
   ]
  },
  {
   "cell_type": "markdown",
   "id": "d3633a58-2b10-4ebe-a12f-09bf7b40272b",
   "metadata": {},
   "source": [
    "### 1-Explain the concepts of formal parameters and actual arguments in Python functions.\n"
   ]
  },
  {
   "cell_type": "markdown",
   "id": "21536617-7bd2-4aa8-a8a5-5a3205f4d4a0",
   "metadata": {},
   "source": [
    "- `Formal arguments`: When a function is defined it (may) has (have) some parameters within the parentheses. These parameters, which receive the values sent from the function call, are called formal arguments.\n",
    "- `Actual arguments`: The parameters which we use in the function call or the parameters which we use to send the values/data during the function call are called actual arguments"
   ]
  },
  {
   "cell_type": "markdown",
   "id": "6228534c-346f-4594-a64f-ec9132fd8657",
   "metadata": {},
   "source": [
    "### 2-Write a Python program that defines a function with default argument values.\n"
   ]
  },
  {
   "cell_type": "code",
   "execution_count": 9,
   "id": "459de0c5-0fbe-4230-be6e-ef085523aff9",
   "metadata": {},
   "outputs": [
    {
     "name": "stdout",
     "output_type": "stream",
     "text": [
      "125\n"
     ]
    }
   ],
   "source": [
    "def defalt_function(a=10,b=20):\n",
    "    c=a+b\n",
    "    print(c)\n",
    "    \n",
    "defalt_function(a=100,b=25)"
   ]
  },
  {
   "cell_type": "code",
   "execution_count": 8,
   "id": "103379e5-0d2a-45a1-b07e-19f4642087d2",
   "metadata": {},
   "outputs": [
    {
     "name": "stdout",
     "output_type": "stream",
     "text": [
      "30\n"
     ]
    }
   ],
   "source": [
    "def defalt_function(a=10,b=20):\n",
    "    c=a+b\n",
    "    print(c)\n",
    "    \n",
    "defalt_function()"
   ]
  },
  {
   "cell_type": "markdown",
   "id": "7d766e97-d42c-4bbd-9589-1578a7d0cb5f",
   "metadata": {},
   "source": [
    "- we define the function ,function name is default_function that takes two default arguments a and b.\n",
    "- we creat the c variable to store the some of result.\n",
    "- one beautifull thing about the default value is if user not gives the  input values then it takes default values or if user input the value then function takes these values ."
   ]
  },
  {
   "cell_type": "markdown",
   "id": "8bfc415f-4da7-4993-a2d3-8fe2a69ecb49",
   "metadata": {},
   "source": [
    "### 3-How do you use keyword arguments in Python function calls? Provide an example.\n"
   ]
  },
  {
   "cell_type": "code",
   "execution_count": 13,
   "id": "24293dcb-843a-40d6-91c6-9ef2b7511335",
   "metadata": {},
   "outputs": [
    {
     "name": "stdout",
     "output_type": "stream",
     "text": [
      "first name: pw\n",
      "last name: skills\n"
     ]
    }
   ],
   "source": [
    "def key_word(first_name,last_name):\n",
    "    print(\"first name:\",first_name)\n",
    "    print(\"last name:\",last_name)\n",
    "    \n",
    "key_word(first_name=\"pw\",last_name=\"skills\")"
   ]
  },
  {
   "cell_type": "markdown",
   "id": "5cb05cdd-7a26-4dbf-9e01-b606f959135e",
   "metadata": {},
   "source": [
    "- we define the function ,function name is key_word it takes two key word arguments .\n",
    "- here i'am taking name & arguments itself if you write it any order it will gives same result."
   ]
  },
  {
   "cell_type": "markdown",
   "id": "6b21b5e0-ea66-4e0f-b1f2-006645cff905",
   "metadata": {},
   "source": [
    "### 4-Create a Python function that accepts a variable number of arguments and calculates their sum.\n"
   ]
  },
  {
   "cell_type": "code",
   "execution_count": 17,
   "id": "3dbd97f9-290f-4060-bd62-a0219a7802b4",
   "metadata": {},
   "outputs": [
    {
     "name": "stdout",
     "output_type": "stream",
     "text": [
      "55\n"
     ]
    }
   ],
   "source": [
    "def sum_of_num(*n):\n",
    "    result=0\n",
    "    for i in n:\n",
    "        result+=i\n",
    "    print(result)\n",
    "sum_of_num(1,2,3,4,5,6,7,8,9,10)"
   ]
  },
  {
   "cell_type": "markdown",
   "id": "3e1767bc-1bd1-4b53-9dae-8cd1782bab75",
   "metadata": {},
   "source": [
    "- we define the function ,function name is sum_of_num it takes arguments .\n",
    "- *n----- it means it take n number of arguments that we want to sum of them.\n",
    "- we create the result variable to store the some of that numbers .\n",
    "- we `result+=i` :use this function to add the looping value into the result variable.\n",
    "- we call the function to some of `(1,2,3,4,5,6,7,8,9,10)`: these numbers .\n"
   ]
  },
  {
   "cell_type": "markdown",
   "id": "088c8143-a9c3-46ea-bd10-798203e7dff6",
   "metadata": {},
   "source": [
    "### 5-What is the purpose of the `*args` and `**kwargs` syntax in function parameter lists?\n"
   ]
  },
  {
   "cell_type": "markdown",
   "id": "bf81d860-20d3-4adf-a514-02353494948a",
   "metadata": {},
   "source": [
    "#### `*args`:--------we use the *args in souch senarious where we do't know how many numbers of arguments put over here .\n",
    "#### `**kwargs`:--------we use the ** in souch senarious where we want to take n numbers of key and value pairs."
   ]
  },
  {
   "cell_type": "markdown",
   "id": "df428f8f-f1ac-4e29-a029-717be176967e",
   "metadata": {},
   "source": [
    "-----------------------------\n",
    "\n",
    "\n",
    "\n",
    "\n",
    "\n",
    "--------------------------------"
   ]
  },
  {
   "cell_type": "markdown",
   "id": "7e875496-2841-4898-b66b-727a1febed26",
   "metadata": {},
   "source": [
    "# ***Return Values and Scoping*** :-\n"
   ]
  },
  {
   "cell_type": "markdown",
   "id": "d207ad0d-d97c-46cb-aca1-61f415c6278e",
   "metadata": {},
   "source": [
    "### 1-Describe the role of the `return` statement in Python functions and provide examples.\n"
   ]
  },
  {
   "cell_type": "markdown",
   "id": "3b6e5978-f37d-482e-be0d-840ce9a4ed1a",
   "metadata": {},
   "source": [
    "- ` return` ---- A return statements used to the execution of the function call and returns the result to the caller .The statements after the return statements are not execuite. return function basicly return the value it does't similar to print statements ,print statements basicly print the values print statements . In the industry label mostly use the return statements."
   ]
  },
  {
   "cell_type": "markdown",
   "id": "506a4416-5a14-412b-8572-3d4d59a7311e",
   "metadata": {},
   "source": [
    "### 2-Explain the concept of variable scope in Python, including local and global variables.\n"
   ]
  },
  {
   "cell_type": "markdown",
   "id": "7ab04922-04a0-4ac8-a9ef-def8e6ee8695",
   "metadata": {},
   "source": [
    "- variables are nothig is a place holder where we can store the some values or some logics .(like a=10) ,here a is variable that store the 10 value .\n",
    "- `local variable`: If any variable create inside the function called local variable scope,local variable only execuite with the function call.(local variable not use any where in the program)\n",
    "- `global variable` : if any variable create outside of the function that is called global variable global variable execuite any where in the program ."
   ]
  },
  {
   "cell_type": "code",
   "execution_count": 25,
   "id": "b6028533-e855-4d9d-902a-7302163507a9",
   "metadata": {},
   "outputs": [
    {
     "name": "stdout",
     "output_type": "stream",
     "text": [
      "Global variable x : awesome\n",
      "Local variable x: funtastic\n"
     ]
    }
   ],
   "source": [
    "## `Exampl`:-\n",
    "\n",
    "x=\"awesome\"\n",
    "def my_fun():\n",
    "    x=\"funtastic\"\n",
    "    print(\"Local variable x:\",x)\n",
    "print(\"Global variable x :\",x)\n",
    "my_fun()"
   ]
  },
  {
   "cell_type": "markdown",
   "id": "2f46f833-ac68-496e-845e-8eedb44efd6b",
   "metadata": {},
   "source": [
    "### 3-Write a Python program that demonstrates the use of global variables within functions.\n"
   ]
  },
  {
   "cell_type": "code",
   "execution_count": 73,
   "id": "09a8b39d-7ff8-4cd2-97e7-6ba0decc7afc",
   "metadata": {},
   "outputs": [
    {
     "name": "stdout",
     "output_type": "stream",
     "text": [
      "50\n"
     ]
    }
   ],
   "source": [
    "## Global variable\n",
    "x=20\n",
    "def add():\n",
    "    \n",
    "    ## local variable\n",
    "    y=30\n",
    "    ## sum of local and global variable.\n",
    "    c=x+y\n",
    "    print(c)\n",
    "add()"
   ]
  },
  {
   "cell_type": "markdown",
   "id": "7217e98d-298d-4173-93ca-29fd766483e9",
   "metadata": {},
   "source": [
    "### 4-Create a Python function that calculates the factorial of a number and returns it.\n"
   ]
  },
  {
   "cell_type": "code",
   "execution_count": 71,
   "id": "2ab4f2ff-03b9-41c8-8c25-7d096200a3cc",
   "metadata": {},
   "outputs": [
    {
     "name": "stdout",
     "output_type": "stream",
     "text": [
      "120\n"
     ]
    }
   ],
   "source": [
    "## factorial of a given number .\n",
    "## method defining via the recursion \n",
    "\n",
    "def fct(n):\n",
    "    ## 1.se case condition \n",
    "    if n<=1:\n",
    "        return 1\n",
    "    ## 2.cursivefunction call.\n",
    "    else:\n",
    "        return n*fct(n-1)\n",
    "    \n",
    "## driver code\n",
    "n=5\n",
    "result =fct(n)\n",
    "print(result)"
   ]
  },
  {
   "cell_type": "markdown",
   "id": "47d46a97-97ad-4b3e-ab64-1c9d16d75b6a",
   "metadata": {},
   "source": [
    "### 5-How can you access variables defined outside a function from within the function?\n"
   ]
  },
  {
   "cell_type": "code",
   "execution_count": 72,
   "id": "1b9c63a7-8f8a-45cf-9bd2-d07c3faf5f6d",
   "metadata": {},
   "outputs": [
    {
     "name": "stdout",
     "output_type": "stream",
     "text": [
      "50\n"
     ]
    }
   ],
   "source": [
    "## Global variable\n",
    "x=20\n",
    "def add():\n",
    "    \n",
    "    ## local variable\n",
    "    y=30\n",
    "    ## sum of local and global variable.\n",
    "    c=x+y\n",
    "    print(c)\n",
    "add()"
   ]
  },
  {
   "cell_type": "markdown",
   "id": "2ca2fb07-709a-428e-8983-ff227a641012",
   "metadata": {},
   "source": [
    "# ***Lambda Functions and Higher-Order Functions*** :-\n"
   ]
  },
  {
   "cell_type": "markdown",
   "id": "4ccc6040-37ba-416e-a08d-9ff56b024175",
   "metadata": {},
   "source": [
    "### 1-What are lambda functions in Python, and when are they typically used?\n"
   ]
  },
  {
   "cell_type": "markdown",
   "id": "e86913f1-a9c0-4543-8e0c-1b2037cfee58",
   "metadata": {},
   "source": [
    "- `Lambda Function`:-------Lambda is a noting but it is a inbuilt anonymous function (function without name),Arguments is a place holder . that is a variable that will be used to hold the value you want to pass into the function expression. A lambda function can have multiple variables depending on what you want to.\n",
    "- lambda function is tipically used to where we need to write single line of code .\n",
    "- where we need to save the space complexity in such senarious we use the lambda function."
   ]
  },
  {
   "cell_type": "markdown",
   "id": "78a4a4b2-29ce-45da-a4f2-1bd4a18c8636",
   "metadata": {},
   "source": [
    "### 2-Write a Python program that uses lambda functions to sort a list of tuples based on the second element.\n"
   ]
  },
  {
   "cell_type": "code",
   "execution_count": 113,
   "id": "99e3eb28-a941-40cd-9fc7-fefb2da95f68",
   "metadata": {},
   "outputs": [],
   "source": [
    "list_of_tuple=[(\"Hindi\",30),(\"english\",10),(\"math\",60),(\"science\",56)]\n",
    "\n",
    "sort_list =sorted(list_of_tuple,key=lambda x:x[1])"
   ]
  },
  {
   "cell_type": "code",
   "execution_count": 114,
   "id": "d3aa6965-3182-4b05-8b79-c589e59c95ec",
   "metadata": {},
   "outputs": [
    {
     "data": {
      "text/plain": [
       "[('english', 10), ('Hindi', 30), ('science', 56), ('math', 60)]"
      ]
     },
     "execution_count": 114,
     "metadata": {},
     "output_type": "execute_result"
    }
   ],
   "source": [
    "sort_list"
   ]
  },
  {
   "cell_type": "markdown",
   "id": "93c185dc-b890-4689-85f8-2151a1c67f8a",
   "metadata": {},
   "source": [
    "- we create the list of tuple that we want to sort based on the second element.\n",
    "- we use the the lambda function to sort the list of tuple based on second element of the tuple.\n",
    "- we use the sorted function sorted function take two arguments one is data and another is arguments based on this arguments sort the data."
   ]
  },
  {
   "cell_type": "markdown",
   "id": "35450076-bd98-4d26-9b22-3679bd67cac3",
   "metadata": {},
   "source": [
    "### 3-Explain the concept of higher-order functions in Python, and provide an example.\n"
   ]
  },
  {
   "cell_type": "markdown",
   "id": "e999fc58-2333-4864-805a-dffd74fdb3d5",
   "metadata": {},
   "source": [
    "- A function is called Higher Order Function if it contains other functions as a parameter or returns a function as an output i.e, the functions that operate with another function are known as Higher order Functions. It is worth knowing that this higher order function is applicable for functions and methods as well that takes functions as a parameter or returns a function as a result. Python too supports the concepts of higher order functions.\n",
    "\n",
    "#### Properties of higher-order functions:\n",
    "\n",
    "- A function is an instance of the Object type.\n",
    "- You can store the function in a variable.\n",
    "- You can pass the function as a parameter to another function.\n",
    "- You can return the function from a function.\n",
    "- You can store them in data structures such as hash tables, lists, …"
   ]
  },
  {
   "cell_type": "code",
   "execution_count": 11,
   "id": "e4aaff79-c641-4806-9bc5-2672b5cd6f13",
   "metadata": {},
   "outputs": [
    {
     "name": "stdout",
     "output_type": "stream",
     "text": [
      "HELLO\n",
      "HELLO\n"
     ]
    }
   ],
   "source": [
    "## example :-\n",
    "\n",
    "def shout(text):\n",
    "    return text.upper()\n",
    "print(shout(\"Hello\"))\n",
    "yell=shout\n",
    "\n",
    "print(yell(\"Hello\"))"
   ]
  },
  {
   "cell_type": "markdown",
   "id": "c70066b8-ca96-482d-a60c-024d0833dd44",
   "metadata": {},
   "source": [
    "### 4-Create a Python function that takes a list of numbers and a function as arguments, applying the function to each element in the list.\n",
    " "
   ]
  },
  {
   "cell_type": "code",
   "execution_count": 46,
   "id": "e23148bf-494b-410c-a49a-d75203de6d0a",
   "metadata": {},
   "outputs": [
    {
     "name": "stdout",
     "output_type": "stream",
     "text": [
      "Original List: [1, 2, 3, 4, 5]\n",
      "Result after applying square function: [1, 4, 9, 16, 25]\n"
     ]
    }
   ],
   "source": [
    "def apply_function_to_list(numbers, func):\n",
    "    \"\"\"\n",
    "    Apply the given function to each element in the list.\n",
    "\n",
    "    Parameters:\n",
    "    - numbers (list): List of numbers.\n",
    "    - func (function): The function to apply.\n",
    "\n",
    "    Returns:\n",
    "    - list: List containing the results of applying the function to each element.\n",
    "    \"\"\"\n",
    "    return [func(num) for num in numbers]\n",
    "\n",
    "# Example usage:\n",
    "numbers = [1, 2, 3, 4, 5]\n",
    "\n",
    "# Define a function to square a number\n",
    "def square(x):\n",
    "    return x ** 2\n",
    "\n",
    "# Apply the square function to each element in the list\n",
    "result = apply_function_to_list(numbers, square)\n",
    "\n",
    "print(f\"Original List: {numbers}\")\n",
    "print(f\"Result after applying square function: {result}\")\n"
   ]
  },
  {
   "cell_type": "markdown",
   "id": "5f974c6e-f311-407d-8eab-31ec6ba52592",
   "metadata": {},
   "source": [
    "# ***Built-in Functions***:-\n"
   ]
  },
  {
   "cell_type": "markdown",
   "id": "734839a2-12b4-42cd-a1de-dde22392899a",
   "metadata": {},
   "source": [
    "### 1-Describe the role of built-in functions like `len()`, `max()`, and `min()` in Python.\n"
   ]
  },
  {
   "cell_type": "markdown",
   "id": "813fc9c4-479f-469d-9209-4f73b81ff11c",
   "metadata": {},
   "source": [
    "- this is a nathing but it is a inbuilt function ,that is writen by the some devlopers. the code of this function is already writen buy the devlopers in a python library.inbuilt function helps to write the our own function as well or may use to direct to find the some values like maximum number ,length of the string, tuple ,dic and many more ."
   ]
  },
  {
   "cell_type": "markdown",
   "id": "0ff86b10-63c2-4122-a11c-b6192a057a7b",
   "metadata": {},
   "source": [
    "### 2-Write a Python program that uses the `map()` function to apply a function to each element of a list.\n"
   ]
  },
  {
   "cell_type": "code",
   "execution_count": 4,
   "id": "2c78e930-7ae1-4314-b4a3-b031491e8133",
   "metadata": {},
   "outputs": [
    {
     "data": {
      "text/plain": [
       "[1, 4, 9, 16, 25, 36]"
      ]
     },
     "execution_count": 4,
     "metadata": {},
     "output_type": "execute_result"
    }
   ],
   "source": [
    "lis=[1, 2, 3, 4, 5, 6]\n",
    "list(map(lambda a:a**2,lis))"
   ]
  },
  {
   "cell_type": "markdown",
   "id": "5a15dad4-bb0a-484b-87e9-84bb0bcbfa77",
   "metadata": {},
   "source": [
    "- we create the list that takes some inteser values.\n",
    "- use tha map function to square of the list."
   ]
  },
  {
   "cell_type": "markdown",
   "id": "2d037529-7143-4d9e-861b-39523df03b87",
   "metadata": {},
   "source": [
    "### 3-How does the `filter()` function work in Python, and when would you use it?\n"
   ]
  },
  {
   "cell_type": "markdown",
   "id": "2677f026-72c0-4802-9325-5819d2e28953",
   "metadata": {},
   "source": [
    "- filter function is nothing but its been used to filter the some data.That filter function will do what it will filter out the data based on some condition that we are going to aply this is where a fulter function comes into a picture .filter is almost like a map function so filter is always itself on every element of iterables indivisualy where ever condition is going to be true it will keep only that data where ever condition is going to be false it will not keep that perticular data in my final data.\n"
   ]
  },
  {
   "cell_type": "code",
   "execution_count": 1,
   "id": "949564ab-750e-41d8-9b1d-41f2a9bfdca5",
   "metadata": {},
   "outputs": [
    {
     "data": {
      "text/plain": [
       "[2, 4, 6, 8]"
      ]
     },
     "execution_count": 1,
     "metadata": {},
     "output_type": "execute_result"
    }
   ],
   "source": [
    "## example \n",
    "l=[1,2,3,4,5,6,7,8,9]\n",
    "list(filter(lambda a:a%2==0,l))"
   ]
  },
  {
   "cell_type": "markdown",
   "id": "eaeebe66-790d-45fc-b709-1fc520476520",
   "metadata": {},
   "source": [
    "### 4-Create a Python program that uses the `reduce()` function to find the product of all elements in a list.\n"
   ]
  },
  {
   "cell_type": "code",
   "execution_count": 3,
   "id": "6705b18d-4c9c-43b6-9698-b82ec3b9c57f",
   "metadata": {},
   "outputs": [
    {
     "name": "stdout",
     "output_type": "stream",
     "text": [
      "362880\n"
     ]
    }
   ],
   "source": [
    "## import the reduce function\n",
    "\n",
    "from functools import reduce\n",
    "## create the result variable to store the result\n",
    "result = reduce(lambda a,b:a*b,l)\n",
    "print(result)"
   ]
  },
  {
   "cell_type": "markdown",
   "id": "a7976e85-4aa2-4d6e-ba64-21f65387243f",
   "metadata": {},
   "source": [
    "- we import the reduce function from the functools library.\n",
    "- we use the reduce function to find the product of all the elements in a list.\n",
    "- we use the print statements to print the result."
   ]
  },
  {
   "cell_type": "markdown",
   "id": "96133512-5e58-44a5-8a1d-98883d1a0a81",
   "metadata": {},
   "source": [
    "--------------------\n",
    "\n",
    "\n",
    "\n",
    "\n",
    "\n",
    "\n",
    "\n",
    "\n",
    "\n",
    "\n",
    "\n",
    "\n",
    "\n",
    "\n",
    "\n",
    "\n",
    "\n",
    "----------------------------"
   ]
  },
  {
   "cell_type": "markdown",
   "id": "92936133-8f7b-47f1-ae93-8d62fee69c8a",
   "metadata": {},
   "source": [
    "# ***Function Documentation and Best Practices*** :-"
   ]
  },
  {
   "cell_type": "markdown",
   "id": "3fd094cf-c43d-4708-b7e9-6a3cd8c1fb2a",
   "metadata": {},
   "source": [
    "### 1-Explain the purpose of docstrings in Python functions and how to write them.\n"
   ]
  },
  {
   "cell_type": "markdown",
   "id": "0c22cdc3-f1ba-43ca-8453-4f3d4af23e2c",
   "metadata": {},
   "source": [
    "- If i'm creating my own function and i have to give the some sort of sence ,where user of this function will be able to understand what and why i have written this perticular function and what is the purpuse behind the writting perticular function ,if i would like to give thet kind of a sence to my user what i can do so i can try to write may be a docstring ,doctstring is exact multiline comments so \"\"\" cods starts and \"\"\" close then you can try to write what ever you want to inside a function and thet will be treated as a docstring .If i am going to call the function i i'am going to press shift and tab inside the function then i am able to see the same sence what ever i have mention or what evern i have written ."
   ]
  },
  {
   "cell_type": "code",
   "execution_count": 7,
   "id": "44d4ffb7-cae6-429b-8f25-995d510526db",
   "metadata": {},
   "outputs": [],
   "source": [
    "# examople \n",
    "def test(x,y):\n",
    "    \"\"\"This is my function whic can take two input and return a addition or concatination operations \"\"\"\n",
    "    return x+y"
   ]
  },
  {
   "cell_type": "code",
   "execution_count": 8,
   "id": "9ec7a70f-b7a7-40f3-b023-09f18f37dad1",
   "metadata": {},
   "outputs": [
    {
     "data": {
      "text/plain": [
       "14"
      ]
     },
     "execution_count": 8,
     "metadata": {},
     "output_type": "execute_result"
    }
   ],
   "source": [
    "test(9,5)"
   ]
  },
  {
   "cell_type": "markdown",
   "id": "4013ad43-18c9-4edc-ba0e-d20a0ce990cb",
   "metadata": {},
   "source": [
    "### 2-Describe some best practices for naming functions and variables in Python, including naming conventions and guidelines.\n"
   ]
  },
  {
   "cell_type": "markdown",
   "id": "d8e2f03d-806a-4438-89f1-f6e1014fb431",
   "metadata": {},
   "source": [
    "#### Variable Naming Convention and Gideline :-\n",
    "- we know there are rules around which variable names are legal but there are still some rules around how to choose goog variable names .This is called a naming convention\n",
    "##### here are the rules-\n",
    "- variables should always start witj the lower case characters .\n",
    "- use underscores instesd of space to seprate words .\n",
    "- don't use the upper case characters .\n",
    "- starting with under score is ok but is used for special purpuse.\n",
    "\n",
    "### Example\tConventional?\tNotes\n",
    "- my_variable\tyes\tUse underscores for spaces between words\n",
    "- Myvariable\tno\tVariables shouldn’t start with an upper-case letter\n",
    "- myVariable\tno\tVariables shouldn’t use upper-case characters\n",
    "- _my_variable\tpossibly\tStarting with an underscore is ok, but it’s used for a special purpose\n",
    "\n",
    "### Do naming conventions matter:-\n",
    "- Does it even matter if we follow conventions?Not to python python will not make us to follow conventions at all.it only cares if variable names are legals.\n",
    "\n",
    "#### Did you know:-\n",
    "- other programing language also having naming convention.Each language has its own rule of follow .(For example, JavaScript has a convention called camelCase)\n",
    "\n",
    "##### Selecting “good” variable names\n",
    "- A good variable name should:\n",
    "\n",
    "- Be clear and concise.\n",
    "- Be written in English. A general coding practice is to write code with variable names in English, as that is the most likely common language between programmers. Thus, variable names such as muuttuja (which is also not a good name on other levels) should be avoided.\n",
    "- Not contain special characters. Python supports use of special characters by way of various encoding options that can be given in a program. That said, it is better to avoid variables such as lämpötila because encoding issues can arise in some cases. Better to stick to the standard printable ASCII character set to be safe.\n",
    "- Not conflict with any Python keywords, such as for, True, False, and, if, or else. These are reserved for speical operations in Python and cannot be used as variable names.\n"
   ]
  },
  {
   "cell_type": "code",
   "execution_count": 114,
   "id": "460325be-913b-4906-870d-27543f520072",
   "metadata": {},
   "outputs": [
    {
     "name": "stdout",
     "output_type": "stream",
     "text": [
      "Avneesh Verma\n"
     ]
    }
   ],
   "source": [
    "### Example:- 1\n",
    "\n",
    "def my_name(string):\n",
    "    return string\n",
    "string = \"Avneesh Verma\"\n",
    "my_variable=my_name(string)\n",
    "print(my_variable)"
   ]
  },
  {
   "cell_type": "code",
   "execution_count": 115,
   "id": "22a5213f-e8c5-45c0-8baf-71c01149568e",
   "metadata": {},
   "outputs": [
    {
     "name": "stdin",
     "output_type": "stream",
     "text": [
      "Please select a starting year:  2021\n",
      "Please select how many years you'd like to check:  10\n"
     ]
    },
    {
     "name": "stdout",
     "output_type": "stream",
     "text": [
      "2021\n",
      "2022\n",
      "2023\n",
      "2024  Is a leap year\n",
      "2025\n",
      "2026\n",
      "2027\n",
      "2028  Is a leap year\n",
      "2029\n",
      "2030\n",
      "2031\n"
     ]
    }
   ],
   "source": [
    "### Example 2:-\n",
    "\n",
    "start_year = int(input(\"Please select a starting year: \"))\n",
    "num_of_years = int(input(\"Please select how many years you'd like to check: \"))\n",
    "\n",
    "end_year =start_year+num_of_years\n",
    "\n",
    "## use the for loop \n",
    "\n",
    "for year in range(start_year-1, end_year):\n",
    "    year += 1    \n",
    "    if year % 4 == 0 and (year % 100 != 0 or year % 400 == 0):\n",
    "        print (year,\" Is a leap year\")\n",
    "    else:\n",
    "        print (year)"
   ]
  }
 ],
 "metadata": {
  "kernelspec": {
   "display_name": "Python 3 (ipykernel)",
   "language": "python",
   "name": "python3"
  },
  "language_info": {
   "codemirror_mode": {
    "name": "ipython",
    "version": 3
   },
   "file_extension": ".py",
   "mimetype": "text/x-python",
   "name": "python",
   "nbconvert_exporter": "python",
   "pygments_lexer": "ipython3",
   "version": "3.10.8"
  }
 },
 "nbformat": 4,
 "nbformat_minor": 5
}
